{
 "cells": [
  {
   "cell_type": "markdown",
   "metadata": {},
   "source": [
    "Data from https://www.kaggle.com/blastchar/telco-customer-churn"
   ]
  },
  {
   "cell_type": "code",
   "execution_count": 11,
   "metadata": {},
   "outputs": [],
   "source": [
    "import pandas as pd\n",
    "import numpy as np\n",
    "\n",
    "import seaborn as sns\n",
    "from matplotlib import pyplot as plt\n",
    "%matplotlib inline"
   ]
  },
  {
   "cell_type": "code",
   "execution_count": 12,
   "metadata": {},
   "outputs": [],
   "source": [
    "df = pd.read_csv('data/WA_Fn-UseC_-Telco-Customer-Churn.csv')"
   ]
  },
  {
   "cell_type": "code",
   "execution_count": 13,
   "metadata": {},
   "outputs": [
    {
     "data": {
      "text/plain": [
       "7043"
      ]
     },
     "execution_count": 13,
     "metadata": {},
     "output_type": "execute_result"
    }
   ],
   "source": [
    "len(df)"
   ]
  },
  {
   "cell_type": "markdown",
   "metadata": {},
   "source": [
    "## Initial data preparation"
   ]
  },
  {
   "cell_type": "code",
   "execution_count": 14,
   "metadata": {},
   "outputs": [
    {
     "data": {
      "text/html": [
       "<div>\n",
       "<style scoped>\n",
       "    .dataframe tbody tr th:only-of-type {\n",
       "        vertical-align: middle;\n",
       "    }\n",
       "\n",
       "    .dataframe tbody tr th {\n",
       "        vertical-align: top;\n",
       "    }\n",
       "\n",
       "    .dataframe thead th {\n",
       "        text-align: right;\n",
       "    }\n",
       "</style>\n",
       "<table border=\"1\" class=\"dataframe\">\n",
       "  <thead>\n",
       "    <tr style=\"text-align: right;\">\n",
       "      <th></th>\n",
       "      <th>customerID</th>\n",
       "      <th>gender</th>\n",
       "      <th>SeniorCitizen</th>\n",
       "      <th>Partner</th>\n",
       "      <th>Dependents</th>\n",
       "      <th>tenure</th>\n",
       "      <th>PhoneService</th>\n",
       "      <th>MultipleLines</th>\n",
       "      <th>InternetService</th>\n",
       "      <th>OnlineSecurity</th>\n",
       "      <th>...</th>\n",
       "      <th>DeviceProtection</th>\n",
       "      <th>TechSupport</th>\n",
       "      <th>StreamingTV</th>\n",
       "      <th>StreamingMovies</th>\n",
       "      <th>Contract</th>\n",
       "      <th>PaperlessBilling</th>\n",
       "      <th>PaymentMethod</th>\n",
       "      <th>MonthlyCharges</th>\n",
       "      <th>TotalCharges</th>\n",
       "      <th>Churn</th>\n",
       "    </tr>\n",
       "  </thead>\n",
       "  <tbody>\n",
       "    <tr>\n",
       "      <th>0</th>\n",
       "      <td>7590-VHVEG</td>\n",
       "      <td>Female</td>\n",
       "      <td>0</td>\n",
       "      <td>Yes</td>\n",
       "      <td>No</td>\n",
       "      <td>1</td>\n",
       "      <td>No</td>\n",
       "      <td>No phone service</td>\n",
       "      <td>DSL</td>\n",
       "      <td>No</td>\n",
       "      <td>...</td>\n",
       "      <td>No</td>\n",
       "      <td>No</td>\n",
       "      <td>No</td>\n",
       "      <td>No</td>\n",
       "      <td>Month-to-month</td>\n",
       "      <td>Yes</td>\n",
       "      <td>Electronic check</td>\n",
       "      <td>29.85</td>\n",
       "      <td>29.85</td>\n",
       "      <td>No</td>\n",
       "    </tr>\n",
       "    <tr>\n",
       "      <th>1</th>\n",
       "      <td>5575-GNVDE</td>\n",
       "      <td>Male</td>\n",
       "      <td>0</td>\n",
       "      <td>No</td>\n",
       "      <td>No</td>\n",
       "      <td>34</td>\n",
       "      <td>Yes</td>\n",
       "      <td>No</td>\n",
       "      <td>DSL</td>\n",
       "      <td>Yes</td>\n",
       "      <td>...</td>\n",
       "      <td>Yes</td>\n",
       "      <td>No</td>\n",
       "      <td>No</td>\n",
       "      <td>No</td>\n",
       "      <td>One year</td>\n",
       "      <td>No</td>\n",
       "      <td>Mailed check</td>\n",
       "      <td>56.95</td>\n",
       "      <td>1889.5</td>\n",
       "      <td>No</td>\n",
       "    </tr>\n",
       "    <tr>\n",
       "      <th>2</th>\n",
       "      <td>3668-QPYBK</td>\n",
       "      <td>Male</td>\n",
       "      <td>0</td>\n",
       "      <td>No</td>\n",
       "      <td>No</td>\n",
       "      <td>2</td>\n",
       "      <td>Yes</td>\n",
       "      <td>No</td>\n",
       "      <td>DSL</td>\n",
       "      <td>Yes</td>\n",
       "      <td>...</td>\n",
       "      <td>No</td>\n",
       "      <td>No</td>\n",
       "      <td>No</td>\n",
       "      <td>No</td>\n",
       "      <td>Month-to-month</td>\n",
       "      <td>Yes</td>\n",
       "      <td>Mailed check</td>\n",
       "      <td>53.85</td>\n",
       "      <td>108.15</td>\n",
       "      <td>Yes</td>\n",
       "    </tr>\n",
       "    <tr>\n",
       "      <th>3</th>\n",
       "      <td>7795-CFOCW</td>\n",
       "      <td>Male</td>\n",
       "      <td>0</td>\n",
       "      <td>No</td>\n",
       "      <td>No</td>\n",
       "      <td>45</td>\n",
       "      <td>No</td>\n",
       "      <td>No phone service</td>\n",
       "      <td>DSL</td>\n",
       "      <td>Yes</td>\n",
       "      <td>...</td>\n",
       "      <td>Yes</td>\n",
       "      <td>Yes</td>\n",
       "      <td>No</td>\n",
       "      <td>No</td>\n",
       "      <td>One year</td>\n",
       "      <td>No</td>\n",
       "      <td>Bank transfer (automatic)</td>\n",
       "      <td>42.30</td>\n",
       "      <td>1840.75</td>\n",
       "      <td>No</td>\n",
       "    </tr>\n",
       "    <tr>\n",
       "      <th>4</th>\n",
       "      <td>9237-HQITU</td>\n",
       "      <td>Female</td>\n",
       "      <td>0</td>\n",
       "      <td>No</td>\n",
       "      <td>No</td>\n",
       "      <td>2</td>\n",
       "      <td>Yes</td>\n",
       "      <td>No</td>\n",
       "      <td>Fiber optic</td>\n",
       "      <td>No</td>\n",
       "      <td>...</td>\n",
       "      <td>No</td>\n",
       "      <td>No</td>\n",
       "      <td>No</td>\n",
       "      <td>No</td>\n",
       "      <td>Month-to-month</td>\n",
       "      <td>Yes</td>\n",
       "      <td>Electronic check</td>\n",
       "      <td>70.70</td>\n",
       "      <td>151.65</td>\n",
       "      <td>Yes</td>\n",
       "    </tr>\n",
       "  </tbody>\n",
       "</table>\n",
       "<p>5 rows × 21 columns</p>\n",
       "</div>"
      ],
      "text/plain": [
       "   customerID  gender  SeniorCitizen Partner Dependents  tenure PhoneService  \\\n",
       "0  7590-VHVEG  Female              0     Yes         No       1           No   \n",
       "1  5575-GNVDE    Male              0      No         No      34          Yes   \n",
       "2  3668-QPYBK    Male              0      No         No       2          Yes   \n",
       "3  7795-CFOCW    Male              0      No         No      45           No   \n",
       "4  9237-HQITU  Female              0      No         No       2          Yes   \n",
       "\n",
       "      MultipleLines InternetService OnlineSecurity  ... DeviceProtection  \\\n",
       "0  No phone service             DSL             No  ...               No   \n",
       "1                No             DSL            Yes  ...              Yes   \n",
       "2                No             DSL            Yes  ...               No   \n",
       "3  No phone service             DSL            Yes  ...              Yes   \n",
       "4                No     Fiber optic             No  ...               No   \n",
       "\n",
       "  TechSupport StreamingTV StreamingMovies        Contract PaperlessBilling  \\\n",
       "0          No          No              No  Month-to-month              Yes   \n",
       "1          No          No              No        One year               No   \n",
       "2          No          No              No  Month-to-month              Yes   \n",
       "3         Yes          No              No        One year               No   \n",
       "4          No          No              No  Month-to-month              Yes   \n",
       "\n",
       "               PaymentMethod MonthlyCharges  TotalCharges Churn  \n",
       "0           Electronic check          29.85         29.85    No  \n",
       "1               Mailed check          56.95        1889.5    No  \n",
       "2               Mailed check          53.85        108.15   Yes  \n",
       "3  Bank transfer (automatic)          42.30       1840.75    No  \n",
       "4           Electronic check          70.70        151.65   Yes  \n",
       "\n",
       "[5 rows x 21 columns]"
      ]
     },
     "execution_count": 14,
     "metadata": {},
     "output_type": "execute_result"
    }
   ],
   "source": [
    "df.head()"
   ]
  },
  {
   "cell_type": "markdown",
   "metadata": {},
   "source": [
    "Convert the rows to columns"
   ]
  },
  {
   "cell_type": "code",
   "execution_count": 15,
   "metadata": {},
   "outputs": [
    {
     "data": {
      "text/html": [
       "<div>\n",
       "<style scoped>\n",
       "    .dataframe tbody tr th:only-of-type {\n",
       "        vertical-align: middle;\n",
       "    }\n",
       "\n",
       "    .dataframe tbody tr th {\n",
       "        vertical-align: top;\n",
       "    }\n",
       "\n",
       "    .dataframe thead th {\n",
       "        text-align: right;\n",
       "    }\n",
       "</style>\n",
       "<table border=\"1\" class=\"dataframe\">\n",
       "  <thead>\n",
       "    <tr style=\"text-align: right;\">\n",
       "      <th></th>\n",
       "      <th>0</th>\n",
       "      <th>1</th>\n",
       "      <th>2</th>\n",
       "      <th>3</th>\n",
       "      <th>4</th>\n",
       "    </tr>\n",
       "  </thead>\n",
       "  <tbody>\n",
       "    <tr>\n",
       "      <th>customerID</th>\n",
       "      <td>7590-VHVEG</td>\n",
       "      <td>5575-GNVDE</td>\n",
       "      <td>3668-QPYBK</td>\n",
       "      <td>7795-CFOCW</td>\n",
       "      <td>9237-HQITU</td>\n",
       "    </tr>\n",
       "    <tr>\n",
       "      <th>gender</th>\n",
       "      <td>Female</td>\n",
       "      <td>Male</td>\n",
       "      <td>Male</td>\n",
       "      <td>Male</td>\n",
       "      <td>Female</td>\n",
       "    </tr>\n",
       "    <tr>\n",
       "      <th>SeniorCitizen</th>\n",
       "      <td>0</td>\n",
       "      <td>0</td>\n",
       "      <td>0</td>\n",
       "      <td>0</td>\n",
       "      <td>0</td>\n",
       "    </tr>\n",
       "    <tr>\n",
       "      <th>Partner</th>\n",
       "      <td>Yes</td>\n",
       "      <td>No</td>\n",
       "      <td>No</td>\n",
       "      <td>No</td>\n",
       "      <td>No</td>\n",
       "    </tr>\n",
       "    <tr>\n",
       "      <th>Dependents</th>\n",
       "      <td>No</td>\n",
       "      <td>No</td>\n",
       "      <td>No</td>\n",
       "      <td>No</td>\n",
       "      <td>No</td>\n",
       "    </tr>\n",
       "    <tr>\n",
       "      <th>tenure</th>\n",
       "      <td>1</td>\n",
       "      <td>34</td>\n",
       "      <td>2</td>\n",
       "      <td>45</td>\n",
       "      <td>2</td>\n",
       "    </tr>\n",
       "    <tr>\n",
       "      <th>PhoneService</th>\n",
       "      <td>No</td>\n",
       "      <td>Yes</td>\n",
       "      <td>Yes</td>\n",
       "      <td>No</td>\n",
       "      <td>Yes</td>\n",
       "    </tr>\n",
       "    <tr>\n",
       "      <th>MultipleLines</th>\n",
       "      <td>No phone service</td>\n",
       "      <td>No</td>\n",
       "      <td>No</td>\n",
       "      <td>No phone service</td>\n",
       "      <td>No</td>\n",
       "    </tr>\n",
       "    <tr>\n",
       "      <th>InternetService</th>\n",
       "      <td>DSL</td>\n",
       "      <td>DSL</td>\n",
       "      <td>DSL</td>\n",
       "      <td>DSL</td>\n",
       "      <td>Fiber optic</td>\n",
       "    </tr>\n",
       "    <tr>\n",
       "      <th>OnlineSecurity</th>\n",
       "      <td>No</td>\n",
       "      <td>Yes</td>\n",
       "      <td>Yes</td>\n",
       "      <td>Yes</td>\n",
       "      <td>No</td>\n",
       "    </tr>\n",
       "    <tr>\n",
       "      <th>OnlineBackup</th>\n",
       "      <td>Yes</td>\n",
       "      <td>No</td>\n",
       "      <td>Yes</td>\n",
       "      <td>No</td>\n",
       "      <td>No</td>\n",
       "    </tr>\n",
       "    <tr>\n",
       "      <th>DeviceProtection</th>\n",
       "      <td>No</td>\n",
       "      <td>Yes</td>\n",
       "      <td>No</td>\n",
       "      <td>Yes</td>\n",
       "      <td>No</td>\n",
       "    </tr>\n",
       "    <tr>\n",
       "      <th>TechSupport</th>\n",
       "      <td>No</td>\n",
       "      <td>No</td>\n",
       "      <td>No</td>\n",
       "      <td>Yes</td>\n",
       "      <td>No</td>\n",
       "    </tr>\n",
       "    <tr>\n",
       "      <th>StreamingTV</th>\n",
       "      <td>No</td>\n",
       "      <td>No</td>\n",
       "      <td>No</td>\n",
       "      <td>No</td>\n",
       "      <td>No</td>\n",
       "    </tr>\n",
       "    <tr>\n",
       "      <th>StreamingMovies</th>\n",
       "      <td>No</td>\n",
       "      <td>No</td>\n",
       "      <td>No</td>\n",
       "      <td>No</td>\n",
       "      <td>No</td>\n",
       "    </tr>\n",
       "    <tr>\n",
       "      <th>Contract</th>\n",
       "      <td>Month-to-month</td>\n",
       "      <td>One year</td>\n",
       "      <td>Month-to-month</td>\n",
       "      <td>One year</td>\n",
       "      <td>Month-to-month</td>\n",
       "    </tr>\n",
       "    <tr>\n",
       "      <th>PaperlessBilling</th>\n",
       "      <td>Yes</td>\n",
       "      <td>No</td>\n",
       "      <td>Yes</td>\n",
       "      <td>No</td>\n",
       "      <td>Yes</td>\n",
       "    </tr>\n",
       "    <tr>\n",
       "      <th>PaymentMethod</th>\n",
       "      <td>Electronic check</td>\n",
       "      <td>Mailed check</td>\n",
       "      <td>Mailed check</td>\n",
       "      <td>Bank transfer (automatic)</td>\n",
       "      <td>Electronic check</td>\n",
       "    </tr>\n",
       "    <tr>\n",
       "      <th>MonthlyCharges</th>\n",
       "      <td>29.85</td>\n",
       "      <td>56.95</td>\n",
       "      <td>53.85</td>\n",
       "      <td>42.3</td>\n",
       "      <td>70.7</td>\n",
       "    </tr>\n",
       "    <tr>\n",
       "      <th>TotalCharges</th>\n",
       "      <td>29.85</td>\n",
       "      <td>1889.5</td>\n",
       "      <td>108.15</td>\n",
       "      <td>1840.75</td>\n",
       "      <td>151.65</td>\n",
       "    </tr>\n",
       "    <tr>\n",
       "      <th>Churn</th>\n",
       "      <td>No</td>\n",
       "      <td>No</td>\n",
       "      <td>Yes</td>\n",
       "      <td>No</td>\n",
       "      <td>Yes</td>\n",
       "    </tr>\n",
       "  </tbody>\n",
       "</table>\n",
       "</div>"
      ],
      "text/plain": [
       "                                 0             1               2  \\\n",
       "customerID              7590-VHVEG    5575-GNVDE      3668-QPYBK   \n",
       "gender                      Female          Male            Male   \n",
       "SeniorCitizen                    0             0               0   \n",
       "Partner                        Yes            No              No   \n",
       "Dependents                      No            No              No   \n",
       "tenure                           1            34               2   \n",
       "PhoneService                    No           Yes             Yes   \n",
       "MultipleLines     No phone service            No              No   \n",
       "InternetService                DSL           DSL             DSL   \n",
       "OnlineSecurity                  No           Yes             Yes   \n",
       "OnlineBackup                   Yes            No             Yes   \n",
       "DeviceProtection                No           Yes              No   \n",
       "TechSupport                     No            No              No   \n",
       "StreamingTV                     No            No              No   \n",
       "StreamingMovies                 No            No              No   \n",
       "Contract            Month-to-month      One year  Month-to-month   \n",
       "PaperlessBilling               Yes            No             Yes   \n",
       "PaymentMethod     Electronic check  Mailed check    Mailed check   \n",
       "MonthlyCharges               29.85         56.95           53.85   \n",
       "TotalCharges                 29.85        1889.5          108.15   \n",
       "Churn                           No            No             Yes   \n",
       "\n",
       "                                          3                 4  \n",
       "customerID                       7795-CFOCW        9237-HQITU  \n",
       "gender                                 Male            Female  \n",
       "SeniorCitizen                             0                 0  \n",
       "Partner                                  No                No  \n",
       "Dependents                               No                No  \n",
       "tenure                                   45                 2  \n",
       "PhoneService                             No               Yes  \n",
       "MultipleLines              No phone service                No  \n",
       "InternetService                         DSL       Fiber optic  \n",
       "OnlineSecurity                          Yes                No  \n",
       "OnlineBackup                             No                No  \n",
       "DeviceProtection                        Yes                No  \n",
       "TechSupport                             Yes                No  \n",
       "StreamingTV                              No                No  \n",
       "StreamingMovies                          No                No  \n",
       "Contract                           One year    Month-to-month  \n",
       "PaperlessBilling                         No               Yes  \n",
       "PaymentMethod     Bank transfer (automatic)  Electronic check  \n",
       "MonthlyCharges                         42.3              70.7  \n",
       "TotalCharges                        1840.75            151.65  \n",
       "Churn                                    No               Yes  "
      ]
     },
     "execution_count": 15,
     "metadata": {},
     "output_type": "execute_result"
    }
   ],
   "source": [
    "df.head().T"
   ]
  },
  {
   "cell_type": "code",
   "execution_count": 16,
   "metadata": {},
   "outputs": [
    {
     "data": {
      "text/plain": [
       "Index(['customerid', 'gender', 'seniorcitizen', 'partner', 'dependents',\n",
       "       'tenure', 'phoneservice', 'multiplelines', 'internetservice',\n",
       "       'onlinesecurity', 'onlinebackup', 'deviceprotection', 'techsupport',\n",
       "       'streamingtv', 'streamingmovies', 'contract', 'paperlessbilling',\n",
       "       'paymentmethod', 'monthlycharges', 'totalcharges', 'churn'],\n",
       "      dtype='object')"
      ]
     },
     "execution_count": 16,
     "metadata": {},
     "output_type": "execute_result"
    }
   ],
   "source": [
    "df.columns = df.columns.str.lower()\n",
    "df.columns"
   ]
  },
  {
   "cell_type": "code",
   "execution_count": 17,
   "metadata": {},
   "outputs": [
    {
     "data": {
      "text/html": [
       "<div>\n",
       "<style scoped>\n",
       "    .dataframe tbody tr th:only-of-type {\n",
       "        vertical-align: middle;\n",
       "    }\n",
       "\n",
       "    .dataframe tbody tr th {\n",
       "        vertical-align: top;\n",
       "    }\n",
       "\n",
       "    .dataframe thead th {\n",
       "        text-align: right;\n",
       "    }\n",
       "</style>\n",
       "<table border=\"1\" class=\"dataframe\">\n",
       "  <thead>\n",
       "    <tr style=\"text-align: right;\">\n",
       "      <th></th>\n",
       "      <th>customerid</th>\n",
       "      <th>gender</th>\n",
       "      <th>seniorcitizen</th>\n",
       "      <th>partner</th>\n",
       "      <th>dependents</th>\n",
       "      <th>tenure</th>\n",
       "      <th>phoneservice</th>\n",
       "      <th>multiplelines</th>\n",
       "      <th>internetservice</th>\n",
       "      <th>onlinesecurity</th>\n",
       "      <th>...</th>\n",
       "      <th>deviceprotection</th>\n",
       "      <th>techsupport</th>\n",
       "      <th>streamingtv</th>\n",
       "      <th>streamingmovies</th>\n",
       "      <th>contract</th>\n",
       "      <th>paperlessbilling</th>\n",
       "      <th>paymentmethod</th>\n",
       "      <th>monthlycharges</th>\n",
       "      <th>totalcharges</th>\n",
       "      <th>churn</th>\n",
       "    </tr>\n",
       "  </thead>\n",
       "  <tbody>\n",
       "    <tr>\n",
       "      <th>0</th>\n",
       "      <td>7590-vhveg</td>\n",
       "      <td>female</td>\n",
       "      <td>0</td>\n",
       "      <td>yes</td>\n",
       "      <td>no</td>\n",
       "      <td>1</td>\n",
       "      <td>no</td>\n",
       "      <td>no_phone_service</td>\n",
       "      <td>dsl</td>\n",
       "      <td>no</td>\n",
       "      <td>...</td>\n",
       "      <td>no</td>\n",
       "      <td>no</td>\n",
       "      <td>no</td>\n",
       "      <td>no</td>\n",
       "      <td>month-to-month</td>\n",
       "      <td>yes</td>\n",
       "      <td>electronic_check</td>\n",
       "      <td>29.85</td>\n",
       "      <td>29.85</td>\n",
       "      <td>no</td>\n",
       "    </tr>\n",
       "    <tr>\n",
       "      <th>1</th>\n",
       "      <td>5575-gnvde</td>\n",
       "      <td>male</td>\n",
       "      <td>0</td>\n",
       "      <td>no</td>\n",
       "      <td>no</td>\n",
       "      <td>34</td>\n",
       "      <td>yes</td>\n",
       "      <td>no</td>\n",
       "      <td>dsl</td>\n",
       "      <td>yes</td>\n",
       "      <td>...</td>\n",
       "      <td>yes</td>\n",
       "      <td>no</td>\n",
       "      <td>no</td>\n",
       "      <td>no</td>\n",
       "      <td>one_year</td>\n",
       "      <td>no</td>\n",
       "      <td>mailed_check</td>\n",
       "      <td>56.95</td>\n",
       "      <td>1889.5</td>\n",
       "      <td>no</td>\n",
       "    </tr>\n",
       "    <tr>\n",
       "      <th>2</th>\n",
       "      <td>3668-qpybk</td>\n",
       "      <td>male</td>\n",
       "      <td>0</td>\n",
       "      <td>no</td>\n",
       "      <td>no</td>\n",
       "      <td>2</td>\n",
       "      <td>yes</td>\n",
       "      <td>no</td>\n",
       "      <td>dsl</td>\n",
       "      <td>yes</td>\n",
       "      <td>...</td>\n",
       "      <td>no</td>\n",
       "      <td>no</td>\n",
       "      <td>no</td>\n",
       "      <td>no</td>\n",
       "      <td>month-to-month</td>\n",
       "      <td>yes</td>\n",
       "      <td>mailed_check</td>\n",
       "      <td>53.85</td>\n",
       "      <td>108.15</td>\n",
       "      <td>yes</td>\n",
       "    </tr>\n",
       "    <tr>\n",
       "      <th>3</th>\n",
       "      <td>7795-cfocw</td>\n",
       "      <td>male</td>\n",
       "      <td>0</td>\n",
       "      <td>no</td>\n",
       "      <td>no</td>\n",
       "      <td>45</td>\n",
       "      <td>no</td>\n",
       "      <td>no_phone_service</td>\n",
       "      <td>dsl</td>\n",
       "      <td>yes</td>\n",
       "      <td>...</td>\n",
       "      <td>yes</td>\n",
       "      <td>yes</td>\n",
       "      <td>no</td>\n",
       "      <td>no</td>\n",
       "      <td>one_year</td>\n",
       "      <td>no</td>\n",
       "      <td>bank_transfer_(automatic)</td>\n",
       "      <td>42.30</td>\n",
       "      <td>1840.75</td>\n",
       "      <td>no</td>\n",
       "    </tr>\n",
       "    <tr>\n",
       "      <th>4</th>\n",
       "      <td>9237-hqitu</td>\n",
       "      <td>female</td>\n",
       "      <td>0</td>\n",
       "      <td>no</td>\n",
       "      <td>no</td>\n",
       "      <td>2</td>\n",
       "      <td>yes</td>\n",
       "      <td>no</td>\n",
       "      <td>fiber_optic</td>\n",
       "      <td>no</td>\n",
       "      <td>...</td>\n",
       "      <td>no</td>\n",
       "      <td>no</td>\n",
       "      <td>no</td>\n",
       "      <td>no</td>\n",
       "      <td>month-to-month</td>\n",
       "      <td>yes</td>\n",
       "      <td>electronic_check</td>\n",
       "      <td>70.70</td>\n",
       "      <td>151.65</td>\n",
       "      <td>yes</td>\n",
       "    </tr>\n",
       "    <tr>\n",
       "      <th>5</th>\n",
       "      <td>9305-cdskc</td>\n",
       "      <td>female</td>\n",
       "      <td>0</td>\n",
       "      <td>no</td>\n",
       "      <td>no</td>\n",
       "      <td>8</td>\n",
       "      <td>yes</td>\n",
       "      <td>yes</td>\n",
       "      <td>fiber_optic</td>\n",
       "      <td>no</td>\n",
       "      <td>...</td>\n",
       "      <td>yes</td>\n",
       "      <td>no</td>\n",
       "      <td>yes</td>\n",
       "      <td>yes</td>\n",
       "      <td>month-to-month</td>\n",
       "      <td>yes</td>\n",
       "      <td>electronic_check</td>\n",
       "      <td>99.65</td>\n",
       "      <td>820.5</td>\n",
       "      <td>yes</td>\n",
       "    </tr>\n",
       "  </tbody>\n",
       "</table>\n",
       "<p>6 rows × 21 columns</p>\n",
       "</div>"
      ],
      "text/plain": [
       "   customerid  gender  seniorcitizen partner dependents  tenure phoneservice  \\\n",
       "0  7590-vhveg  female              0     yes         no       1           no   \n",
       "1  5575-gnvde    male              0      no         no      34          yes   \n",
       "2  3668-qpybk    male              0      no         no       2          yes   \n",
       "3  7795-cfocw    male              0      no         no      45           no   \n",
       "4  9237-hqitu  female              0      no         no       2          yes   \n",
       "5  9305-cdskc  female              0      no         no       8          yes   \n",
       "\n",
       "      multiplelines internetservice onlinesecurity  ... deviceprotection  \\\n",
       "0  no_phone_service             dsl             no  ...               no   \n",
       "1                no             dsl            yes  ...              yes   \n",
       "2                no             dsl            yes  ...               no   \n",
       "3  no_phone_service             dsl            yes  ...              yes   \n",
       "4                no     fiber_optic             no  ...               no   \n",
       "5               yes     fiber_optic             no  ...              yes   \n",
       "\n",
       "  techsupport streamingtv streamingmovies        contract paperlessbilling  \\\n",
       "0          no          no              no  month-to-month              yes   \n",
       "1          no          no              no        one_year               no   \n",
       "2          no          no              no  month-to-month              yes   \n",
       "3         yes          no              no        one_year               no   \n",
       "4          no          no              no  month-to-month              yes   \n",
       "5          no         yes             yes  month-to-month              yes   \n",
       "\n",
       "               paymentmethod monthlycharges  totalcharges churn  \n",
       "0           electronic_check          29.85         29.85    no  \n",
       "1               mailed_check          56.95        1889.5    no  \n",
       "2               mailed_check          53.85        108.15   yes  \n",
       "3  bank_transfer_(automatic)          42.30       1840.75    no  \n",
       "4           electronic_check          70.70        151.65   yes  \n",
       "5           electronic_check          99.65         820.5   yes  \n",
       "\n",
       "[6 rows x 21 columns]"
      ]
     },
     "execution_count": 17,
     "metadata": {},
     "output_type": "execute_result"
    }
   ],
   "source": [
    "categorical_columns = list(df.dtypes[df.dtypes == 'object'].index)\n",
    "\n",
    "for c in categorical_columns:\n",
    "    df[c] = df[c].str.lower().str.replace(' ','_')\n",
    "\n",
    "df.head(6)"
   ]
  },
  {
   "cell_type": "code",
   "execution_count": 18,
   "metadata": {},
   "outputs": [
    {
     "data": {
      "text/plain": [
       "customerid           object\n",
       "gender               object\n",
       "seniorcitizen         int64\n",
       "partner              object\n",
       "dependents           object\n",
       "tenure                int64\n",
       "phoneservice         object\n",
       "multiplelines        object\n",
       "internetservice      object\n",
       "onlinesecurity       object\n",
       "onlinebackup         object\n",
       "deviceprotection     object\n",
       "techsupport          object\n",
       "streamingtv          object\n",
       "streamingmovies      object\n",
       "contract             object\n",
       "paperlessbilling     object\n",
       "paymentmethod        object\n",
       "monthlycharges      float64\n",
       "totalcharges         object\n",
       "churn                object\n",
       "dtype: object"
      ]
     },
     "execution_count": 18,
     "metadata": {},
     "output_type": "execute_result"
    }
   ],
   "source": [
    "df.dtypes"
   ]
  },
  {
   "cell_type": "markdown",
   "metadata": {},
   "source": [
    "total charges column is a string but ideally it contains integers. Lets fix that"
   ]
  },
  {
   "cell_type": "code",
   "execution_count": 19,
   "metadata": {},
   "outputs": [
    {
     "data": {
      "text/plain": [
       "0         29.85\n",
       "1        1889.5\n",
       "2        108.15\n",
       "3       1840.75\n",
       "4        151.65\n",
       "         ...   \n",
       "7038     1990.5\n",
       "7039     7362.9\n",
       "7040     346.45\n",
       "7041      306.6\n",
       "7042     6844.5\n",
       "Name: totalcharges, Length: 7043, dtype: object"
      ]
     },
     "execution_count": 19,
     "metadata": {},
     "output_type": "execute_result"
    }
   ],
   "source": [
    "df.totalcharges"
   ]
  },
  {
   "cell_type": "markdown",
   "metadata": {},
   "source": [
    "convert the column to integer data type"
   ]
  },
  {
   "cell_type": "code",
   "execution_count": 20,
   "metadata": {},
   "outputs": [],
   "source": [
    "#df.totalcharges = pd.to_numeric(df.totalcharges)"
   ]
  },
  {
   "cell_type": "code",
   "execution_count": 21,
   "metadata": {},
   "outputs": [],
   "source": [
    "df.totalcharges = pd.to_numeric(df.totalcharges, errors='coerce')"
   ]
  },
  {
   "cell_type": "code",
   "execution_count": 22,
   "metadata": {},
   "outputs": [
    {
     "data": {
      "text/plain": [
       "11"
      ]
     },
     "execution_count": 22,
     "metadata": {},
     "output_type": "execute_result"
    }
   ],
   "source": [
    "df.totalcharges.isnull().sum()"
   ]
  },
  {
   "cell_type": "code",
   "execution_count": 23,
   "metadata": {},
   "outputs": [
    {
     "data": {
      "text/plain": [
       "Index(['customerid', 'gender', 'seniorcitizen', 'partner', 'dependents',\n",
       "       'tenure', 'phoneservice', 'multiplelines', 'internetservice',\n",
       "       'onlinesecurity', 'onlinebackup', 'deviceprotection', 'techsupport',\n",
       "       'streamingtv', 'streamingmovies', 'contract', 'paperlessbilling',\n",
       "       'paymentmethod', 'monthlycharges', 'totalcharges', 'churn'],\n",
       "      dtype='object')"
      ]
     },
     "execution_count": 23,
     "metadata": {},
     "output_type": "execute_result"
    }
   ],
   "source": [
    "df.columns"
   ]
  },
  {
   "cell_type": "code",
   "execution_count": 24,
   "metadata": {},
   "outputs": [],
   "source": [
    "tc = pd.to_numeric(df.totalcharges)"
   ]
  },
  {
   "cell_type": "code",
   "execution_count": 25,
   "metadata": {},
   "outputs": [
    {
     "data": {
      "text/html": [
       "<div>\n",
       "<style scoped>\n",
       "    .dataframe tbody tr th:only-of-type {\n",
       "        vertical-align: middle;\n",
       "    }\n",
       "\n",
       "    .dataframe tbody tr th {\n",
       "        vertical-align: top;\n",
       "    }\n",
       "\n",
       "    .dataframe thead th {\n",
       "        text-align: right;\n",
       "    }\n",
       "</style>\n",
       "<table border=\"1\" class=\"dataframe\">\n",
       "  <thead>\n",
       "    <tr style=\"text-align: right;\">\n",
       "      <th></th>\n",
       "      <th>customerid</th>\n",
       "      <th>totalcharges</th>\n",
       "    </tr>\n",
       "  </thead>\n",
       "  <tbody>\n",
       "    <tr>\n",
       "      <th>488</th>\n",
       "      <td>4472-lvygi</td>\n",
       "      <td>NaN</td>\n",
       "    </tr>\n",
       "    <tr>\n",
       "      <th>753</th>\n",
       "      <td>3115-czmzd</td>\n",
       "      <td>NaN</td>\n",
       "    </tr>\n",
       "    <tr>\n",
       "      <th>936</th>\n",
       "      <td>5709-lvoeq</td>\n",
       "      <td>NaN</td>\n",
       "    </tr>\n",
       "    <tr>\n",
       "      <th>1082</th>\n",
       "      <td>4367-nuyao</td>\n",
       "      <td>NaN</td>\n",
       "    </tr>\n",
       "    <tr>\n",
       "      <th>1340</th>\n",
       "      <td>1371-dwpaz</td>\n",
       "      <td>NaN</td>\n",
       "    </tr>\n",
       "    <tr>\n",
       "      <th>3331</th>\n",
       "      <td>7644-omvmy</td>\n",
       "      <td>NaN</td>\n",
       "    </tr>\n",
       "    <tr>\n",
       "      <th>3826</th>\n",
       "      <td>3213-vvolg</td>\n",
       "      <td>NaN</td>\n",
       "    </tr>\n",
       "    <tr>\n",
       "      <th>4380</th>\n",
       "      <td>2520-sgtta</td>\n",
       "      <td>NaN</td>\n",
       "    </tr>\n",
       "    <tr>\n",
       "      <th>5218</th>\n",
       "      <td>2923-arzlg</td>\n",
       "      <td>NaN</td>\n",
       "    </tr>\n",
       "    <tr>\n",
       "      <th>6670</th>\n",
       "      <td>4075-wkniu</td>\n",
       "      <td>NaN</td>\n",
       "    </tr>\n",
       "    <tr>\n",
       "      <th>6754</th>\n",
       "      <td>2775-sefee</td>\n",
       "      <td>NaN</td>\n",
       "    </tr>\n",
       "  </tbody>\n",
       "</table>\n",
       "</div>"
      ],
      "text/plain": [
       "      customerid  totalcharges\n",
       "488   4472-lvygi           NaN\n",
       "753   3115-czmzd           NaN\n",
       "936   5709-lvoeq           NaN\n",
       "1082  4367-nuyao           NaN\n",
       "1340  1371-dwpaz           NaN\n",
       "3331  7644-omvmy           NaN\n",
       "3826  3213-vvolg           NaN\n",
       "4380  2520-sgtta           NaN\n",
       "5218  2923-arzlg           NaN\n",
       "6670  4075-wkniu           NaN\n",
       "6754  2775-sefee           NaN"
      ]
     },
     "execution_count": 25,
     "metadata": {},
     "output_type": "execute_result"
    }
   ],
   "source": [
    "df[tc.isnull()][['customerid','totalcharges']]"
   ]
  },
  {
   "cell_type": "code",
   "execution_count": 26,
   "metadata": {},
   "outputs": [],
   "source": [
    "df.totalcharges = df.totalcharges.fillna(0)"
   ]
  },
  {
   "cell_type": "code",
   "execution_count": 27,
   "metadata": {},
   "outputs": [
    {
     "data": {
      "text/plain": [
       "0     no\n",
       "1     no\n",
       "2    yes\n",
       "3     no\n",
       "4    yes\n",
       "Name: churn, dtype: object"
      ]
     },
     "execution_count": 27,
     "metadata": {},
     "output_type": "execute_result"
    }
   ],
   "source": [
    "df.churn.head()"
   ]
  },
  {
   "cell_type": "markdown",
   "metadata": {},
   "source": [
    "Convert yes or no to 1 or 0"
   ]
  },
  {
   "cell_type": "code",
   "execution_count": 28,
   "metadata": {},
   "outputs": [],
   "source": [
    "df.churn = (df.churn == 'yes').astype(int)"
   ]
  },
  {
   "cell_type": "code",
   "execution_count": 29,
   "metadata": {},
   "outputs": [
    {
     "data": {
      "text/plain": [
       "0    0\n",
       "1    0\n",
       "2    1\n",
       "3    0\n",
       "4    1\n",
       "Name: churn, dtype: int64"
      ]
     },
     "execution_count": 29,
     "metadata": {},
     "output_type": "execute_result"
    }
   ],
   "source": [
    "df.churn.head()"
   ]
  },
  {
   "cell_type": "code",
   "execution_count": null,
   "metadata": {},
   "outputs": [],
   "source": []
  },
  {
   "cell_type": "markdown",
   "metadata": {},
   "source": [
    "## Setting up Validation Framework"
   ]
  },
  {
   "cell_type": "code",
   "execution_count": 32,
   "metadata": {},
   "outputs": [],
   "source": [
    "from sklearn.model_selection import train_test_split"
   ]
  },
  {
   "cell_type": "code",
   "execution_count": 33,
   "metadata": {},
   "outputs": [],
   "source": [
    "df_full_train, df_test = train_test_split(df,test_size=0.2,random_state=1)"
   ]
  },
  {
   "cell_type": "code",
   "execution_count": 34,
   "metadata": {},
   "outputs": [
    {
     "data": {
      "text/plain": [
       "(5634, 1409)"
      ]
     },
     "execution_count": 34,
     "metadata": {},
     "output_type": "execute_result"
    }
   ],
   "source": [
    "len(df_full_train), len(df_test)"
   ]
  },
  {
   "cell_type": "markdown",
   "metadata": {},
   "source": [
    "We want to have 0.6 train, 0.2 test and 0.2 val\n",
    "to find percentage of val split = 20/80 = 1/4 = 0.25\n",
    "0.25"
   ]
  },
  {
   "cell_type": "code",
   "execution_count": 35,
   "metadata": {},
   "outputs": [],
   "source": [
    "df_train, df_val = train_test_split(df_full_train,test_size=0.25,random_state=1)"
   ]
  },
  {
   "cell_type": "code",
   "execution_count": 37,
   "metadata": {},
   "outputs": [
    {
     "data": {
      "text/plain": [
       "(4225, 1409, 1409)"
      ]
     },
     "execution_count": 37,
     "metadata": {},
     "output_type": "execute_result"
    }
   ],
   "source": [
    "len(df_train), len(df_val), len(df_test)"
   ]
  },
  {
   "cell_type": "code",
   "execution_count": 38,
   "metadata": {},
   "outputs": [],
   "source": [
    "df_train = df_train.reset_index(drop=True)\n",
    "df_val = df_val.reset_index(drop=True)\n",
    "df_test = df_test.reset_index(drop=True)"
   ]
  },
  {
   "cell_type": "code",
   "execution_count": 39,
   "metadata": {},
   "outputs": [],
   "source": [
    "y_train  = df_train.churn.values\n",
    "y_val  = df_val.churn.values\n",
    "y_test  = df_test.churn.values"
   ]
  },
  {
   "cell_type": "code",
   "execution_count": 40,
   "metadata": {},
   "outputs": [],
   "source": [
    "del df_train['churn']\n",
    "del df_val['churn']\n",
    "del df_test['churn']"
   ]
  },
  {
   "cell_type": "code",
   "execution_count": null,
   "metadata": {},
   "outputs": [],
   "source": []
  },
  {
   "cell_type": "markdown",
   "metadata": {},
   "source": [
    "## Exploratory data analysis\n",
    "* checking missing values\n",
    "* look at the target variable(churn)\n",
    "* look at numerical and categorica values\n"
   ]
  },
  {
   "cell_type": "code",
   "execution_count": 41,
   "metadata": {},
   "outputs": [
    {
     "data": {
      "text/html": [
       "<div>\n",
       "<style scoped>\n",
       "    .dataframe tbody tr th:only-of-type {\n",
       "        vertical-align: middle;\n",
       "    }\n",
       "\n",
       "    .dataframe tbody tr th {\n",
       "        vertical-align: top;\n",
       "    }\n",
       "\n",
       "    .dataframe thead th {\n",
       "        text-align: right;\n",
       "    }\n",
       "</style>\n",
       "<table border=\"1\" class=\"dataframe\">\n",
       "  <thead>\n",
       "    <tr style=\"text-align: right;\">\n",
       "      <th></th>\n",
       "      <th>customerid</th>\n",
       "      <th>gender</th>\n",
       "      <th>seniorcitizen</th>\n",
       "      <th>partner</th>\n",
       "      <th>dependents</th>\n",
       "      <th>tenure</th>\n",
       "      <th>phoneservice</th>\n",
       "      <th>multiplelines</th>\n",
       "      <th>internetservice</th>\n",
       "      <th>onlinesecurity</th>\n",
       "      <th>...</th>\n",
       "      <th>deviceprotection</th>\n",
       "      <th>techsupport</th>\n",
       "      <th>streamingtv</th>\n",
       "      <th>streamingmovies</th>\n",
       "      <th>contract</th>\n",
       "      <th>paperlessbilling</th>\n",
       "      <th>paymentmethod</th>\n",
       "      <th>monthlycharges</th>\n",
       "      <th>totalcharges</th>\n",
       "      <th>churn</th>\n",
       "    </tr>\n",
       "  </thead>\n",
       "  <tbody>\n",
       "    <tr>\n",
       "      <th>0</th>\n",
       "      <td>5442-pptjy</td>\n",
       "      <td>male</td>\n",
       "      <td>0</td>\n",
       "      <td>yes</td>\n",
       "      <td>yes</td>\n",
       "      <td>12</td>\n",
       "      <td>yes</td>\n",
       "      <td>no</td>\n",
       "      <td>no</td>\n",
       "      <td>no_internet_service</td>\n",
       "      <td>...</td>\n",
       "      <td>no_internet_service</td>\n",
       "      <td>no_internet_service</td>\n",
       "      <td>no_internet_service</td>\n",
       "      <td>no_internet_service</td>\n",
       "      <td>two_year</td>\n",
       "      <td>no</td>\n",
       "      <td>mailed_check</td>\n",
       "      <td>19.70</td>\n",
       "      <td>258.35</td>\n",
       "      <td>0</td>\n",
       "    </tr>\n",
       "    <tr>\n",
       "      <th>1</th>\n",
       "      <td>6261-rcvns</td>\n",
       "      <td>female</td>\n",
       "      <td>0</td>\n",
       "      <td>no</td>\n",
       "      <td>no</td>\n",
       "      <td>42</td>\n",
       "      <td>yes</td>\n",
       "      <td>no</td>\n",
       "      <td>dsl</td>\n",
       "      <td>yes</td>\n",
       "      <td>...</td>\n",
       "      <td>yes</td>\n",
       "      <td>yes</td>\n",
       "      <td>no</td>\n",
       "      <td>yes</td>\n",
       "      <td>one_year</td>\n",
       "      <td>no</td>\n",
       "      <td>credit_card_(automatic)</td>\n",
       "      <td>73.90</td>\n",
       "      <td>3160.55</td>\n",
       "      <td>1</td>\n",
       "    </tr>\n",
       "    <tr>\n",
       "      <th>2</th>\n",
       "      <td>2176-osjuv</td>\n",
       "      <td>male</td>\n",
       "      <td>0</td>\n",
       "      <td>yes</td>\n",
       "      <td>no</td>\n",
       "      <td>71</td>\n",
       "      <td>yes</td>\n",
       "      <td>yes</td>\n",
       "      <td>dsl</td>\n",
       "      <td>yes</td>\n",
       "      <td>...</td>\n",
       "      <td>no</td>\n",
       "      <td>yes</td>\n",
       "      <td>no</td>\n",
       "      <td>no</td>\n",
       "      <td>two_year</td>\n",
       "      <td>no</td>\n",
       "      <td>bank_transfer_(automatic)</td>\n",
       "      <td>65.15</td>\n",
       "      <td>4681.75</td>\n",
       "      <td>0</td>\n",
       "    </tr>\n",
       "    <tr>\n",
       "      <th>3</th>\n",
       "      <td>6161-erdgd</td>\n",
       "      <td>male</td>\n",
       "      <td>0</td>\n",
       "      <td>yes</td>\n",
       "      <td>yes</td>\n",
       "      <td>71</td>\n",
       "      <td>yes</td>\n",
       "      <td>yes</td>\n",
       "      <td>dsl</td>\n",
       "      <td>yes</td>\n",
       "      <td>...</td>\n",
       "      <td>yes</td>\n",
       "      <td>yes</td>\n",
       "      <td>yes</td>\n",
       "      <td>yes</td>\n",
       "      <td>one_year</td>\n",
       "      <td>no</td>\n",
       "      <td>electronic_check</td>\n",
       "      <td>85.45</td>\n",
       "      <td>6300.85</td>\n",
       "      <td>0</td>\n",
       "    </tr>\n",
       "    <tr>\n",
       "      <th>4</th>\n",
       "      <td>2364-ufrom</td>\n",
       "      <td>male</td>\n",
       "      <td>0</td>\n",
       "      <td>no</td>\n",
       "      <td>no</td>\n",
       "      <td>30</td>\n",
       "      <td>yes</td>\n",
       "      <td>no</td>\n",
       "      <td>dsl</td>\n",
       "      <td>yes</td>\n",
       "      <td>...</td>\n",
       "      <td>no</td>\n",
       "      <td>yes</td>\n",
       "      <td>yes</td>\n",
       "      <td>no</td>\n",
       "      <td>one_year</td>\n",
       "      <td>no</td>\n",
       "      <td>electronic_check</td>\n",
       "      <td>70.40</td>\n",
       "      <td>2044.75</td>\n",
       "      <td>0</td>\n",
       "    </tr>\n",
       "    <tr>\n",
       "      <th>...</th>\n",
       "      <td>...</td>\n",
       "      <td>...</td>\n",
       "      <td>...</td>\n",
       "      <td>...</td>\n",
       "      <td>...</td>\n",
       "      <td>...</td>\n",
       "      <td>...</td>\n",
       "      <td>...</td>\n",
       "      <td>...</td>\n",
       "      <td>...</td>\n",
       "      <td>...</td>\n",
       "      <td>...</td>\n",
       "      <td>...</td>\n",
       "      <td>...</td>\n",
       "      <td>...</td>\n",
       "      <td>...</td>\n",
       "      <td>...</td>\n",
       "      <td>...</td>\n",
       "      <td>...</td>\n",
       "      <td>...</td>\n",
       "      <td>...</td>\n",
       "    </tr>\n",
       "    <tr>\n",
       "      <th>5629</th>\n",
       "      <td>0781-lkxbr</td>\n",
       "      <td>male</td>\n",
       "      <td>1</td>\n",
       "      <td>no</td>\n",
       "      <td>no</td>\n",
       "      <td>9</td>\n",
       "      <td>yes</td>\n",
       "      <td>yes</td>\n",
       "      <td>fiber_optic</td>\n",
       "      <td>no</td>\n",
       "      <td>...</td>\n",
       "      <td>yes</td>\n",
       "      <td>no</td>\n",
       "      <td>yes</td>\n",
       "      <td>yes</td>\n",
       "      <td>month-to-month</td>\n",
       "      <td>yes</td>\n",
       "      <td>electronic_check</td>\n",
       "      <td>100.50</td>\n",
       "      <td>918.60</td>\n",
       "      <td>1</td>\n",
       "    </tr>\n",
       "    <tr>\n",
       "      <th>5630</th>\n",
       "      <td>3507-gasnp</td>\n",
       "      <td>male</td>\n",
       "      <td>0</td>\n",
       "      <td>no</td>\n",
       "      <td>yes</td>\n",
       "      <td>60</td>\n",
       "      <td>yes</td>\n",
       "      <td>no</td>\n",
       "      <td>no</td>\n",
       "      <td>no_internet_service</td>\n",
       "      <td>...</td>\n",
       "      <td>no_internet_service</td>\n",
       "      <td>no_internet_service</td>\n",
       "      <td>no_internet_service</td>\n",
       "      <td>no_internet_service</td>\n",
       "      <td>two_year</td>\n",
       "      <td>no</td>\n",
       "      <td>mailed_check</td>\n",
       "      <td>19.95</td>\n",
       "      <td>1189.90</td>\n",
       "      <td>0</td>\n",
       "    </tr>\n",
       "    <tr>\n",
       "      <th>5631</th>\n",
       "      <td>8868-wozgu</td>\n",
       "      <td>male</td>\n",
       "      <td>0</td>\n",
       "      <td>no</td>\n",
       "      <td>no</td>\n",
       "      <td>28</td>\n",
       "      <td>yes</td>\n",
       "      <td>yes</td>\n",
       "      <td>fiber_optic</td>\n",
       "      <td>no</td>\n",
       "      <td>...</td>\n",
       "      <td>yes</td>\n",
       "      <td>no</td>\n",
       "      <td>yes</td>\n",
       "      <td>yes</td>\n",
       "      <td>month-to-month</td>\n",
       "      <td>yes</td>\n",
       "      <td>electronic_check</td>\n",
       "      <td>105.70</td>\n",
       "      <td>2979.50</td>\n",
       "      <td>1</td>\n",
       "    </tr>\n",
       "    <tr>\n",
       "      <th>5632</th>\n",
       "      <td>1251-krreg</td>\n",
       "      <td>male</td>\n",
       "      <td>0</td>\n",
       "      <td>no</td>\n",
       "      <td>no</td>\n",
       "      <td>2</td>\n",
       "      <td>yes</td>\n",
       "      <td>yes</td>\n",
       "      <td>dsl</td>\n",
       "      <td>no</td>\n",
       "      <td>...</td>\n",
       "      <td>no</td>\n",
       "      <td>no</td>\n",
       "      <td>no</td>\n",
       "      <td>no</td>\n",
       "      <td>month-to-month</td>\n",
       "      <td>yes</td>\n",
       "      <td>mailed_check</td>\n",
       "      <td>54.40</td>\n",
       "      <td>114.10</td>\n",
       "      <td>1</td>\n",
       "    </tr>\n",
       "    <tr>\n",
       "      <th>5633</th>\n",
       "      <td>5840-nvdcg</td>\n",
       "      <td>female</td>\n",
       "      <td>0</td>\n",
       "      <td>yes</td>\n",
       "      <td>yes</td>\n",
       "      <td>16</td>\n",
       "      <td>yes</td>\n",
       "      <td>no</td>\n",
       "      <td>dsl</td>\n",
       "      <td>yes</td>\n",
       "      <td>...</td>\n",
       "      <td>no</td>\n",
       "      <td>yes</td>\n",
       "      <td>no</td>\n",
       "      <td>yes</td>\n",
       "      <td>two_year</td>\n",
       "      <td>no</td>\n",
       "      <td>bank_transfer_(automatic)</td>\n",
       "      <td>68.25</td>\n",
       "      <td>1114.85</td>\n",
       "      <td>0</td>\n",
       "    </tr>\n",
       "  </tbody>\n",
       "</table>\n",
       "<p>5634 rows × 21 columns</p>\n",
       "</div>"
      ],
      "text/plain": [
       "      customerid  gender  seniorcitizen partner dependents  tenure  \\\n",
       "0     5442-pptjy    male              0     yes        yes      12   \n",
       "1     6261-rcvns  female              0      no         no      42   \n",
       "2     2176-osjuv    male              0     yes         no      71   \n",
       "3     6161-erdgd    male              0     yes        yes      71   \n",
       "4     2364-ufrom    male              0      no         no      30   \n",
       "...          ...     ...            ...     ...        ...     ...   \n",
       "5629  0781-lkxbr    male              1      no         no       9   \n",
       "5630  3507-gasnp    male              0      no        yes      60   \n",
       "5631  8868-wozgu    male              0      no         no      28   \n",
       "5632  1251-krreg    male              0      no         no       2   \n",
       "5633  5840-nvdcg  female              0     yes        yes      16   \n",
       "\n",
       "     phoneservice multiplelines internetservice       onlinesecurity  ...  \\\n",
       "0             yes            no              no  no_internet_service  ...   \n",
       "1             yes            no             dsl                  yes  ...   \n",
       "2             yes           yes             dsl                  yes  ...   \n",
       "3             yes           yes             dsl                  yes  ...   \n",
       "4             yes            no             dsl                  yes  ...   \n",
       "...           ...           ...             ...                  ...  ...   \n",
       "5629          yes           yes     fiber_optic                   no  ...   \n",
       "5630          yes            no              no  no_internet_service  ...   \n",
       "5631          yes           yes     fiber_optic                   no  ...   \n",
       "5632          yes           yes             dsl                   no  ...   \n",
       "5633          yes            no             dsl                  yes  ...   \n",
       "\n",
       "         deviceprotection          techsupport          streamingtv  \\\n",
       "0     no_internet_service  no_internet_service  no_internet_service   \n",
       "1                     yes                  yes                   no   \n",
       "2                      no                  yes                   no   \n",
       "3                     yes                  yes                  yes   \n",
       "4                      no                  yes                  yes   \n",
       "...                   ...                  ...                  ...   \n",
       "5629                  yes                   no                  yes   \n",
       "5630  no_internet_service  no_internet_service  no_internet_service   \n",
       "5631                  yes                   no                  yes   \n",
       "5632                   no                   no                   no   \n",
       "5633                   no                  yes                   no   \n",
       "\n",
       "          streamingmovies        contract paperlessbilling  \\\n",
       "0     no_internet_service        two_year               no   \n",
       "1                     yes        one_year               no   \n",
       "2                      no        two_year               no   \n",
       "3                     yes        one_year               no   \n",
       "4                      no        one_year               no   \n",
       "...                   ...             ...              ...   \n",
       "5629                  yes  month-to-month              yes   \n",
       "5630  no_internet_service        two_year               no   \n",
       "5631                  yes  month-to-month              yes   \n",
       "5632                   no  month-to-month              yes   \n",
       "5633                  yes        two_year               no   \n",
       "\n",
       "                  paymentmethod monthlycharges  totalcharges  churn  \n",
       "0                  mailed_check          19.70        258.35      0  \n",
       "1       credit_card_(automatic)          73.90       3160.55      1  \n",
       "2     bank_transfer_(automatic)          65.15       4681.75      0  \n",
       "3              electronic_check          85.45       6300.85      0  \n",
       "4              electronic_check          70.40       2044.75      0  \n",
       "...                         ...            ...           ...    ...  \n",
       "5629           electronic_check         100.50        918.60      1  \n",
       "5630               mailed_check          19.95       1189.90      0  \n",
       "5631           electronic_check         105.70       2979.50      1  \n",
       "5632               mailed_check          54.40        114.10      1  \n",
       "5633  bank_transfer_(automatic)          68.25       1114.85      0  \n",
       "\n",
       "[5634 rows x 21 columns]"
      ]
     },
     "execution_count": 41,
     "metadata": {},
     "output_type": "execute_result"
    }
   ],
   "source": [
    "df_full_train.reset_index(drop=True)"
   ]
  },
  {
   "cell_type": "code",
   "execution_count": 42,
   "metadata": {},
   "outputs": [
    {
     "data": {
      "text/plain": [
       "customerid          0\n",
       "gender              0\n",
       "seniorcitizen       0\n",
       "partner             0\n",
       "dependents          0\n",
       "tenure              0\n",
       "phoneservice        0\n",
       "multiplelines       0\n",
       "internetservice     0\n",
       "onlinesecurity      0\n",
       "onlinebackup        0\n",
       "deviceprotection    0\n",
       "techsupport         0\n",
       "streamingtv         0\n",
       "streamingmovies     0\n",
       "contract            0\n",
       "paperlessbilling    0\n",
       "paymentmethod       0\n",
       "monthlycharges      0\n",
       "totalcharges        0\n",
       "churn               0\n",
       "dtype: int64"
      ]
     },
     "execution_count": 42,
     "metadata": {},
     "output_type": "execute_result"
    }
   ],
   "source": [
    "df_full_train.isna().sum()"
   ]
  },
  {
   "cell_type": "code",
   "execution_count": 43,
   "metadata": {},
   "outputs": [
    {
     "data": {
      "text/plain": [
       "0    4113\n",
       "1    1521\n",
       "Name: churn, dtype: int64"
      ]
     },
     "execution_count": 43,
     "metadata": {},
     "output_type": "execute_result"
    }
   ],
   "source": [
    "df_full_train.churn.value_counts()"
   ]
  },
  {
   "cell_type": "code",
   "execution_count": 44,
   "metadata": {},
   "outputs": [
    {
     "data": {
      "text/plain": [
       "0    0.730032\n",
       "1    0.269968\n",
       "Name: churn, dtype: float64"
      ]
     },
     "execution_count": 44,
     "metadata": {},
     "output_type": "execute_result"
    }
   ],
   "source": [
    "df_full_train.churn.value_counts(normalize=True)"
   ]
  },
  {
   "cell_type": "code",
   "execution_count": 47,
   "metadata": {},
   "outputs": [
    {
     "data": {
      "text/plain": [
       "0.27"
      ]
     },
     "execution_count": 47,
     "metadata": {},
     "output_type": "execute_result"
    }
   ],
   "source": [
    "global_churn_rate = df_full_train.churn.mean()\n",
    "round(global_churn_rate,2)"
   ]
  },
  {
   "cell_type": "code",
   "execution_count": 48,
   "metadata": {},
   "outputs": [
    {
     "data": {
      "text/plain": [
       "customerid           object\n",
       "gender               object\n",
       "seniorcitizen         int64\n",
       "partner              object\n",
       "dependents           object\n",
       "tenure                int64\n",
       "phoneservice         object\n",
       "multiplelines        object\n",
       "internetservice      object\n",
       "onlinesecurity       object\n",
       "onlinebackup         object\n",
       "deviceprotection     object\n",
       "techsupport          object\n",
       "streamingtv          object\n",
       "streamingmovies      object\n",
       "contract             object\n",
       "paperlessbilling     object\n",
       "paymentmethod        object\n",
       "monthlycharges      float64\n",
       "totalcharges        float64\n",
       "churn                 int64\n",
       "dtype: object"
      ]
     },
     "execution_count": 48,
     "metadata": {},
     "output_type": "execute_result"
    }
   ],
   "source": [
    "df_full_train.dtypes"
   ]
  },
  {
   "cell_type": "code",
   "execution_count": 49,
   "metadata": {},
   "outputs": [],
   "source": [
    "numeric = [ \n",
    "    'tenure', 'monthlycharges', 'totalcharges'\n",
    "]"
   ]
  },
  {
   "cell_type": "code",
   "execution_count": 50,
   "metadata": {},
   "outputs": [
    {
     "data": {
      "text/plain": [
       "Index(['customerid', 'gender', 'seniorcitizen', 'partner', 'dependents',\n",
       "       'tenure', 'phoneservice', 'multiplelines', 'internetservice',\n",
       "       'onlinesecurity', 'onlinebackup', 'deviceprotection', 'techsupport',\n",
       "       'streamingtv', 'streamingmovies', 'contract', 'paperlessbilling',\n",
       "       'paymentmethod', 'monthlycharges', 'totalcharges', 'churn'],\n",
       "      dtype='object')"
      ]
     },
     "execution_count": 50,
     "metadata": {},
     "output_type": "execute_result"
    }
   ],
   "source": [
    "df_full_train.columns"
   ]
  },
  {
   "cell_type": "code",
   "execution_count": 54,
   "metadata": {},
   "outputs": [],
   "source": [
    "categorical = [ \n",
    "     'gender', 'seniorcitizen', 'partner', 'dependents',\n",
    "        'phoneservice', 'multiplelines', 'internetservice',\n",
    "       'onlinesecurity', 'onlinebackup', 'deviceprotection', 'techsupport',\n",
    "       'streamingtv', 'streamingmovies', 'contract', 'paperlessbilling',\n",
    "       'paymentmethod'\n",
    "]"
   ]
  },
  {
   "cell_type": "markdown",
   "metadata": {},
   "source": [
    "number uniques values for categorical variables"
   ]
  },
  {
   "cell_type": "code",
   "execution_count": 55,
   "metadata": {},
   "outputs": [
    {
     "data": {
      "text/plain": [
       "gender              2\n",
       "seniorcitizen       2\n",
       "partner             2\n",
       "dependents          2\n",
       "phoneservice        2\n",
       "multiplelines       3\n",
       "internetservice     3\n",
       "onlinesecurity      3\n",
       "onlinebackup        3\n",
       "deviceprotection    3\n",
       "techsupport         3\n",
       "streamingtv         3\n",
       "streamingmovies     3\n",
       "contract            3\n",
       "paperlessbilling    2\n",
       "paymentmethod       4\n",
       "dtype: int64"
      ]
     },
     "execution_count": 55,
     "metadata": {},
     "output_type": "execute_result"
    }
   ],
   "source": [
    "df_full_train[categorical].nunique()"
   ]
  },
  {
   "cell_type": "markdown",
   "metadata": {},
   "source": [
    "## Feature importance\n",
    "Feature importance Analysis( part of EDA) --> identifying which features affect our target variable\n",
    "\n",
    "* churn rate\n",
    "* risk ratio\n",
    "* mutual information - later\n",
    "\n",
    "1. Difference  \n",
    "    Global churn rate - group chrun rate  \n",
    "    if < 0;\n",
    "    more likely to churn  \n",
    "    if > 0\n",
    "    less likely to churn  \n",
    "    \n",
    "2. Risk Ratio\n",
    "    Risk = group churn rate / global churn rate  \n",
    "    if < 1:\n",
    "    less likely to chrrun  \n",
    "    if > 1:\n",
    "    more likely to churn  "
   ]
  },
  {
   "cell_type": "markdown",
   "metadata": {},
   "source": [
    "#### Churn rate"
   ]
  },
  {
   "cell_type": "markdown",
   "metadata": {},
   "source": [
    "gender"
   ]
  },
  {
   "cell_type": "code",
   "execution_count": 58,
   "metadata": {},
   "outputs": [
    {
     "data": {
      "text/plain": [
       "(0.26996805111821087, 0.2632135306553911, 0.2632135306553911)"
      ]
     },
     "execution_count": 58,
     "metadata": {},
     "output_type": "execute_result"
    }
   ],
   "source": [
    "global_churn = df_full_train.churn.mean()\n",
    "churn_male = df_full_train[df_full_train.gender == 'male'].churn.mean()\n",
    "churn_female = df_full_train[df_full_train.gender == 'female'].churn.mean()\n",
    "\n",
    "global_churn, churn_male, churn_male"
   ]
  },
  {
   "cell_type": "markdown",
   "metadata": {},
   "source": [
    "partner"
   ]
  },
  {
   "cell_type": "code",
   "execution_count": 59,
   "metadata": {},
   "outputs": [
    {
     "data": {
      "text/plain": [
       "array(['yes', 'no'], dtype=object)"
      ]
     },
     "execution_count": 59,
     "metadata": {},
     "output_type": "execute_result"
    }
   ],
   "source": [
    "df_full_train.partner.unique()"
   ]
  },
  {
   "cell_type": "code",
   "execution_count": 61,
   "metadata": {},
   "outputs": [
    {
     "data": {
      "text/plain": [
       "(0.26996805111821087, 0.3298090040927694, 0.20503330866025166)"
      ]
     },
     "execution_count": 61,
     "metadata": {},
     "output_type": "execute_result"
    }
   ],
   "source": [
    "#global_churn = df_full_train.churn.mean()\n",
    "churn_no_partner = df_full_train[df_full_train.partner == 'no'].churn.mean()\n",
    "churn_with_partner = df_full_train[df_full_train.partner == 'yes'].churn.mean()\n",
    "\n",
    "global_churn, churn_no_partner, churn_with_partner"
   ]
  },
  {
   "cell_type": "code",
   "execution_count": 62,
   "metadata": {},
   "outputs": [
    {
     "data": {
      "text/plain": [
       "-0.05984095297455855"
      ]
     },
     "execution_count": 62,
     "metadata": {},
     "output_type": "execute_result"
    }
   ],
   "source": [
    "global_churn - churn_no_partner"
   ]
  },
  {
   "cell_type": "code",
   "execution_count": 63,
   "metadata": {},
   "outputs": [
    {
     "data": {
      "text/plain": [
       "0.06493474245795922"
      ]
     },
     "execution_count": 63,
     "metadata": {},
     "output_type": "execute_result"
    }
   ],
   "source": [
    "global_churn - churn_with_partner"
   ]
  },
  {
   "cell_type": "code",
   "execution_count": 64,
   "metadata": {},
   "outputs": [
    {
     "data": {
      "text/plain": [
       "0.006754520462819769"
      ]
     },
     "execution_count": 64,
     "metadata": {},
     "output_type": "execute_result"
    }
   ],
   "source": [
    "global_churn - churn_male"
   ]
  },
  {
   "cell_type": "code",
   "execution_count": 65,
   "metadata": {},
   "outputs": [
    {
     "data": {
      "text/plain": [
       "-0.006855983216553063"
      ]
     },
     "execution_count": 65,
     "metadata": {},
     "output_type": "execute_result"
    }
   ],
   "source": [
    "global_churn - churn_female"
   ]
  },
  {
   "cell_type": "markdown",
   "metadata": {},
   "source": [
    "#### Risk Ratio"
   ]
  },
  {
   "cell_type": "code",
   "execution_count": 66,
   "metadata": {},
   "outputs": [
    {
     "data": {
      "text/plain": [
       "1.2216593879412643"
      ]
     },
     "execution_count": 66,
     "metadata": {},
     "output_type": "execute_result"
    }
   ],
   "source": [
    "churn_no_partner / global_churn"
   ]
  },
  {
   "cell_type": "code",
   "execution_count": 67,
   "metadata": {},
   "outputs": [
    {
     "data": {
      "text/plain": [
       "0.7594724924338315"
      ]
     },
     "execution_count": 67,
     "metadata": {},
     "output_type": "execute_result"
    }
   ],
   "source": [
    "churn_with_partner / global_churn"
   ]
  },
  {
   "cell_type": "markdown",
   "metadata": {},
   "source": [
    "SELECT  \n",
    "    gender,  \n",
    "    AVG(churn),  \n",
    "    AVG(churn) - global_churn AS DIFF  \n",
    "    AVG(churn) / global_churn AS RISK  \n",
    "FROM  \n",
    "    data  \n",
    "GROUP BY  \n",
    "    gender  "
   ]
  },
  {
   "cell_type": "code",
   "execution_count": null,
   "metadata": {},
   "outputs": [],
   "source": [
    "from IPython.display import display"
   ]
  },
  {
   "cell_type": "code",
   "execution_count": 78,
   "metadata": {},
   "outputs": [
    {
     "name": "stdout",
     "output_type": "stream",
     "text": [
      "gender\n"
     ]
    },
    {
     "data": {
      "text/html": [
       "<div>\n",
       "<style scoped>\n",
       "    .dataframe tbody tr th:only-of-type {\n",
       "        vertical-align: middle;\n",
       "    }\n",
       "\n",
       "    .dataframe tbody tr th {\n",
       "        vertical-align: top;\n",
       "    }\n",
       "\n",
       "    .dataframe thead th {\n",
       "        text-align: right;\n",
       "    }\n",
       "</style>\n",
       "<table border=\"1\" class=\"dataframe\">\n",
       "  <thead>\n",
       "    <tr style=\"text-align: right;\">\n",
       "      <th></th>\n",
       "      <th>mean</th>\n",
       "      <th>count</th>\n",
       "      <th>diff</th>\n",
       "      <th>risk</th>\n",
       "    </tr>\n",
       "    <tr>\n",
       "      <th>gender</th>\n",
       "      <th></th>\n",
       "      <th></th>\n",
       "      <th></th>\n",
       "      <th></th>\n",
       "    </tr>\n",
       "  </thead>\n",
       "  <tbody>\n",
       "    <tr>\n",
       "      <th>female</th>\n",
       "      <td>0.276824</td>\n",
       "      <td>2796</td>\n",
       "      <td>0.006856</td>\n",
       "      <td>1.025396</td>\n",
       "    </tr>\n",
       "    <tr>\n",
       "      <th>male</th>\n",
       "      <td>0.263214</td>\n",
       "      <td>2838</td>\n",
       "      <td>-0.006755</td>\n",
       "      <td>0.974980</td>\n",
       "    </tr>\n",
       "  </tbody>\n",
       "</table>\n",
       "</div>"
      ],
      "text/plain": [
       "            mean  count      diff      risk\n",
       "gender                                     \n",
       "female  0.276824   2796  0.006856  1.025396\n",
       "male    0.263214   2838 -0.006755  0.974980"
      ]
     },
     "metadata": {},
     "output_type": "display_data"
    },
    {
     "name": "stdout",
     "output_type": "stream",
     "text": [
      "----------------------------------------\n",
      "seniorcitizen\n"
     ]
    },
    {
     "data": {
      "text/html": [
       "<div>\n",
       "<style scoped>\n",
       "    .dataframe tbody tr th:only-of-type {\n",
       "        vertical-align: middle;\n",
       "    }\n",
       "\n",
       "    .dataframe tbody tr th {\n",
       "        vertical-align: top;\n",
       "    }\n",
       "\n",
       "    .dataframe thead th {\n",
       "        text-align: right;\n",
       "    }\n",
       "</style>\n",
       "<table border=\"1\" class=\"dataframe\">\n",
       "  <thead>\n",
       "    <tr style=\"text-align: right;\">\n",
       "      <th></th>\n",
       "      <th>mean</th>\n",
       "      <th>count</th>\n",
       "      <th>diff</th>\n",
       "      <th>risk</th>\n",
       "    </tr>\n",
       "    <tr>\n",
       "      <th>seniorcitizen</th>\n",
       "      <th></th>\n",
       "      <th></th>\n",
       "      <th></th>\n",
       "      <th></th>\n",
       "    </tr>\n",
       "  </thead>\n",
       "  <tbody>\n",
       "    <tr>\n",
       "      <th>0</th>\n",
       "      <td>0.242270</td>\n",
       "      <td>4722</td>\n",
       "      <td>-0.027698</td>\n",
       "      <td>0.897403</td>\n",
       "    </tr>\n",
       "    <tr>\n",
       "      <th>1</th>\n",
       "      <td>0.413377</td>\n",
       "      <td>912</td>\n",
       "      <td>0.143409</td>\n",
       "      <td>1.531208</td>\n",
       "    </tr>\n",
       "  </tbody>\n",
       "</table>\n",
       "</div>"
      ],
      "text/plain": [
       "                   mean  count      diff      risk\n",
       "seniorcitizen                                     \n",
       "0              0.242270   4722 -0.027698  0.897403\n",
       "1              0.413377    912  0.143409  1.531208"
      ]
     },
     "metadata": {},
     "output_type": "display_data"
    },
    {
     "name": "stdout",
     "output_type": "stream",
     "text": [
      "----------------------------------------\n",
      "partner\n"
     ]
    },
    {
     "data": {
      "text/html": [
       "<div>\n",
       "<style scoped>\n",
       "    .dataframe tbody tr th:only-of-type {\n",
       "        vertical-align: middle;\n",
       "    }\n",
       "\n",
       "    .dataframe tbody tr th {\n",
       "        vertical-align: top;\n",
       "    }\n",
       "\n",
       "    .dataframe thead th {\n",
       "        text-align: right;\n",
       "    }\n",
       "</style>\n",
       "<table border=\"1\" class=\"dataframe\">\n",
       "  <thead>\n",
       "    <tr style=\"text-align: right;\">\n",
       "      <th></th>\n",
       "      <th>mean</th>\n",
       "      <th>count</th>\n",
       "      <th>diff</th>\n",
       "      <th>risk</th>\n",
       "    </tr>\n",
       "    <tr>\n",
       "      <th>partner</th>\n",
       "      <th></th>\n",
       "      <th></th>\n",
       "      <th></th>\n",
       "      <th></th>\n",
       "    </tr>\n",
       "  </thead>\n",
       "  <tbody>\n",
       "    <tr>\n",
       "      <th>no</th>\n",
       "      <td>0.329809</td>\n",
       "      <td>2932</td>\n",
       "      <td>0.059841</td>\n",
       "      <td>1.221659</td>\n",
       "    </tr>\n",
       "    <tr>\n",
       "      <th>yes</th>\n",
       "      <td>0.205033</td>\n",
       "      <td>2702</td>\n",
       "      <td>-0.064935</td>\n",
       "      <td>0.759472</td>\n",
       "    </tr>\n",
       "  </tbody>\n",
       "</table>\n",
       "</div>"
      ],
      "text/plain": [
       "             mean  count      diff      risk\n",
       "partner                                     \n",
       "no       0.329809   2932  0.059841  1.221659\n",
       "yes      0.205033   2702 -0.064935  0.759472"
      ]
     },
     "metadata": {},
     "output_type": "display_data"
    },
    {
     "name": "stdout",
     "output_type": "stream",
     "text": [
      "----------------------------------------\n",
      "dependents\n"
     ]
    },
    {
     "data": {
      "text/html": [
       "<div>\n",
       "<style scoped>\n",
       "    .dataframe tbody tr th:only-of-type {\n",
       "        vertical-align: middle;\n",
       "    }\n",
       "\n",
       "    .dataframe tbody tr th {\n",
       "        vertical-align: top;\n",
       "    }\n",
       "\n",
       "    .dataframe thead th {\n",
       "        text-align: right;\n",
       "    }\n",
       "</style>\n",
       "<table border=\"1\" class=\"dataframe\">\n",
       "  <thead>\n",
       "    <tr style=\"text-align: right;\">\n",
       "      <th></th>\n",
       "      <th>mean</th>\n",
       "      <th>count</th>\n",
       "      <th>diff</th>\n",
       "      <th>risk</th>\n",
       "    </tr>\n",
       "    <tr>\n",
       "      <th>dependents</th>\n",
       "      <th></th>\n",
       "      <th></th>\n",
       "      <th></th>\n",
       "      <th></th>\n",
       "    </tr>\n",
       "  </thead>\n",
       "  <tbody>\n",
       "    <tr>\n",
       "      <th>no</th>\n",
       "      <td>0.313760</td>\n",
       "      <td>3968</td>\n",
       "      <td>0.043792</td>\n",
       "      <td>1.162212</td>\n",
       "    </tr>\n",
       "    <tr>\n",
       "      <th>yes</th>\n",
       "      <td>0.165666</td>\n",
       "      <td>1666</td>\n",
       "      <td>-0.104302</td>\n",
       "      <td>0.613651</td>\n",
       "    </tr>\n",
       "  </tbody>\n",
       "</table>\n",
       "</div>"
      ],
      "text/plain": [
       "                mean  count      diff      risk\n",
       "dependents                                     \n",
       "no          0.313760   3968  0.043792  1.162212\n",
       "yes         0.165666   1666 -0.104302  0.613651"
      ]
     },
     "metadata": {},
     "output_type": "display_data"
    },
    {
     "name": "stdout",
     "output_type": "stream",
     "text": [
      "----------------------------------------\n",
      "phoneservice\n"
     ]
    },
    {
     "data": {
      "text/html": [
       "<div>\n",
       "<style scoped>\n",
       "    .dataframe tbody tr th:only-of-type {\n",
       "        vertical-align: middle;\n",
       "    }\n",
       "\n",
       "    .dataframe tbody tr th {\n",
       "        vertical-align: top;\n",
       "    }\n",
       "\n",
       "    .dataframe thead th {\n",
       "        text-align: right;\n",
       "    }\n",
       "</style>\n",
       "<table border=\"1\" class=\"dataframe\">\n",
       "  <thead>\n",
       "    <tr style=\"text-align: right;\">\n",
       "      <th></th>\n",
       "      <th>mean</th>\n",
       "      <th>count</th>\n",
       "      <th>diff</th>\n",
       "      <th>risk</th>\n",
       "    </tr>\n",
       "    <tr>\n",
       "      <th>phoneservice</th>\n",
       "      <th></th>\n",
       "      <th></th>\n",
       "      <th></th>\n",
       "      <th></th>\n",
       "    </tr>\n",
       "  </thead>\n",
       "  <tbody>\n",
       "    <tr>\n",
       "      <th>no</th>\n",
       "      <td>0.241316</td>\n",
       "      <td>547</td>\n",
       "      <td>-0.028652</td>\n",
       "      <td>0.893870</td>\n",
       "    </tr>\n",
       "    <tr>\n",
       "      <th>yes</th>\n",
       "      <td>0.273049</td>\n",
       "      <td>5087</td>\n",
       "      <td>0.003081</td>\n",
       "      <td>1.011412</td>\n",
       "    </tr>\n",
       "  </tbody>\n",
       "</table>\n",
       "</div>"
      ],
      "text/plain": [
       "                  mean  count      diff      risk\n",
       "phoneservice                                     \n",
       "no            0.241316    547 -0.028652  0.893870\n",
       "yes           0.273049   5087  0.003081  1.011412"
      ]
     },
     "metadata": {},
     "output_type": "display_data"
    },
    {
     "name": "stdout",
     "output_type": "stream",
     "text": [
      "----------------------------------------\n",
      "multiplelines\n"
     ]
    },
    {
     "data": {
      "text/html": [
       "<div>\n",
       "<style scoped>\n",
       "    .dataframe tbody tr th:only-of-type {\n",
       "        vertical-align: middle;\n",
       "    }\n",
       "\n",
       "    .dataframe tbody tr th {\n",
       "        vertical-align: top;\n",
       "    }\n",
       "\n",
       "    .dataframe thead th {\n",
       "        text-align: right;\n",
       "    }\n",
       "</style>\n",
       "<table border=\"1\" class=\"dataframe\">\n",
       "  <thead>\n",
       "    <tr style=\"text-align: right;\">\n",
       "      <th></th>\n",
       "      <th>mean</th>\n",
       "      <th>count</th>\n",
       "      <th>diff</th>\n",
       "      <th>risk</th>\n",
       "    </tr>\n",
       "    <tr>\n",
       "      <th>multiplelines</th>\n",
       "      <th></th>\n",
       "      <th></th>\n",
       "      <th></th>\n",
       "      <th></th>\n",
       "    </tr>\n",
       "  </thead>\n",
       "  <tbody>\n",
       "    <tr>\n",
       "      <th>no</th>\n",
       "      <td>0.257407</td>\n",
       "      <td>2700</td>\n",
       "      <td>-0.012561</td>\n",
       "      <td>0.953474</td>\n",
       "    </tr>\n",
       "    <tr>\n",
       "      <th>no_phone_service</th>\n",
       "      <td>0.241316</td>\n",
       "      <td>547</td>\n",
       "      <td>-0.028652</td>\n",
       "      <td>0.893870</td>\n",
       "    </tr>\n",
       "    <tr>\n",
       "      <th>yes</th>\n",
       "      <td>0.290742</td>\n",
       "      <td>2387</td>\n",
       "      <td>0.020773</td>\n",
       "      <td>1.076948</td>\n",
       "    </tr>\n",
       "  </tbody>\n",
       "</table>\n",
       "</div>"
      ],
      "text/plain": [
       "                      mean  count      diff      risk\n",
       "multiplelines                                        \n",
       "no                0.257407   2700 -0.012561  0.953474\n",
       "no_phone_service  0.241316    547 -0.028652  0.893870\n",
       "yes               0.290742   2387  0.020773  1.076948"
      ]
     },
     "metadata": {},
     "output_type": "display_data"
    },
    {
     "name": "stdout",
     "output_type": "stream",
     "text": [
      "----------------------------------------\n",
      "internetservice\n"
     ]
    },
    {
     "data": {
      "text/html": [
       "<div>\n",
       "<style scoped>\n",
       "    .dataframe tbody tr th:only-of-type {\n",
       "        vertical-align: middle;\n",
       "    }\n",
       "\n",
       "    .dataframe tbody tr th {\n",
       "        vertical-align: top;\n",
       "    }\n",
       "\n",
       "    .dataframe thead th {\n",
       "        text-align: right;\n",
       "    }\n",
       "</style>\n",
       "<table border=\"1\" class=\"dataframe\">\n",
       "  <thead>\n",
       "    <tr style=\"text-align: right;\">\n",
       "      <th></th>\n",
       "      <th>mean</th>\n",
       "      <th>count</th>\n",
       "      <th>diff</th>\n",
       "      <th>risk</th>\n",
       "    </tr>\n",
       "    <tr>\n",
       "      <th>internetservice</th>\n",
       "      <th></th>\n",
       "      <th></th>\n",
       "      <th></th>\n",
       "      <th></th>\n",
       "    </tr>\n",
       "  </thead>\n",
       "  <tbody>\n",
       "    <tr>\n",
       "      <th>dsl</th>\n",
       "      <td>0.192347</td>\n",
       "      <td>1934</td>\n",
       "      <td>-0.077621</td>\n",
       "      <td>0.712482</td>\n",
       "    </tr>\n",
       "    <tr>\n",
       "      <th>fiber_optic</th>\n",
       "      <td>0.425171</td>\n",
       "      <td>2479</td>\n",
       "      <td>0.155203</td>\n",
       "      <td>1.574895</td>\n",
       "    </tr>\n",
       "    <tr>\n",
       "      <th>no</th>\n",
       "      <td>0.077805</td>\n",
       "      <td>1221</td>\n",
       "      <td>-0.192163</td>\n",
       "      <td>0.288201</td>\n",
       "    </tr>\n",
       "  </tbody>\n",
       "</table>\n",
       "</div>"
      ],
      "text/plain": [
       "                     mean  count      diff      risk\n",
       "internetservice                                     \n",
       "dsl              0.192347   1934 -0.077621  0.712482\n",
       "fiber_optic      0.425171   2479  0.155203  1.574895\n",
       "no               0.077805   1221 -0.192163  0.288201"
      ]
     },
     "metadata": {},
     "output_type": "display_data"
    },
    {
     "name": "stdout",
     "output_type": "stream",
     "text": [
      "----------------------------------------\n",
      "onlinesecurity\n"
     ]
    },
    {
     "data": {
      "text/html": [
       "<div>\n",
       "<style scoped>\n",
       "    .dataframe tbody tr th:only-of-type {\n",
       "        vertical-align: middle;\n",
       "    }\n",
       "\n",
       "    .dataframe tbody tr th {\n",
       "        vertical-align: top;\n",
       "    }\n",
       "\n",
       "    .dataframe thead th {\n",
       "        text-align: right;\n",
       "    }\n",
       "</style>\n",
       "<table border=\"1\" class=\"dataframe\">\n",
       "  <thead>\n",
       "    <tr style=\"text-align: right;\">\n",
       "      <th></th>\n",
       "      <th>mean</th>\n",
       "      <th>count</th>\n",
       "      <th>diff</th>\n",
       "      <th>risk</th>\n",
       "    </tr>\n",
       "    <tr>\n",
       "      <th>onlinesecurity</th>\n",
       "      <th></th>\n",
       "      <th></th>\n",
       "      <th></th>\n",
       "      <th></th>\n",
       "    </tr>\n",
       "  </thead>\n",
       "  <tbody>\n",
       "    <tr>\n",
       "      <th>no</th>\n",
       "      <td>0.420921</td>\n",
       "      <td>2801</td>\n",
       "      <td>0.150953</td>\n",
       "      <td>1.559152</td>\n",
       "    </tr>\n",
       "    <tr>\n",
       "      <th>no_internet_service</th>\n",
       "      <td>0.077805</td>\n",
       "      <td>1221</td>\n",
       "      <td>-0.192163</td>\n",
       "      <td>0.288201</td>\n",
       "    </tr>\n",
       "    <tr>\n",
       "      <th>yes</th>\n",
       "      <td>0.153226</td>\n",
       "      <td>1612</td>\n",
       "      <td>-0.116742</td>\n",
       "      <td>0.567570</td>\n",
       "    </tr>\n",
       "  </tbody>\n",
       "</table>\n",
       "</div>"
      ],
      "text/plain": [
       "                         mean  count      diff      risk\n",
       "onlinesecurity                                          \n",
       "no                   0.420921   2801  0.150953  1.559152\n",
       "no_internet_service  0.077805   1221 -0.192163  0.288201\n",
       "yes                  0.153226   1612 -0.116742  0.567570"
      ]
     },
     "metadata": {},
     "output_type": "display_data"
    },
    {
     "name": "stdout",
     "output_type": "stream",
     "text": [
      "----------------------------------------\n",
      "onlinebackup\n"
     ]
    },
    {
     "data": {
      "text/html": [
       "<div>\n",
       "<style scoped>\n",
       "    .dataframe tbody tr th:only-of-type {\n",
       "        vertical-align: middle;\n",
       "    }\n",
       "\n",
       "    .dataframe tbody tr th {\n",
       "        vertical-align: top;\n",
       "    }\n",
       "\n",
       "    .dataframe thead th {\n",
       "        text-align: right;\n",
       "    }\n",
       "</style>\n",
       "<table border=\"1\" class=\"dataframe\">\n",
       "  <thead>\n",
       "    <tr style=\"text-align: right;\">\n",
       "      <th></th>\n",
       "      <th>mean</th>\n",
       "      <th>count</th>\n",
       "      <th>diff</th>\n",
       "      <th>risk</th>\n",
       "    </tr>\n",
       "    <tr>\n",
       "      <th>onlinebackup</th>\n",
       "      <th></th>\n",
       "      <th></th>\n",
       "      <th></th>\n",
       "      <th></th>\n",
       "    </tr>\n",
       "  </thead>\n",
       "  <tbody>\n",
       "    <tr>\n",
       "      <th>no</th>\n",
       "      <td>0.404323</td>\n",
       "      <td>2498</td>\n",
       "      <td>0.134355</td>\n",
       "      <td>1.497672</td>\n",
       "    </tr>\n",
       "    <tr>\n",
       "      <th>no_internet_service</th>\n",
       "      <td>0.077805</td>\n",
       "      <td>1221</td>\n",
       "      <td>-0.192163</td>\n",
       "      <td>0.288201</td>\n",
       "    </tr>\n",
       "    <tr>\n",
       "      <th>yes</th>\n",
       "      <td>0.217232</td>\n",
       "      <td>1915</td>\n",
       "      <td>-0.052736</td>\n",
       "      <td>0.804660</td>\n",
       "    </tr>\n",
       "  </tbody>\n",
       "</table>\n",
       "</div>"
      ],
      "text/plain": [
       "                         mean  count      diff      risk\n",
       "onlinebackup                                            \n",
       "no                   0.404323   2498  0.134355  1.497672\n",
       "no_internet_service  0.077805   1221 -0.192163  0.288201\n",
       "yes                  0.217232   1915 -0.052736  0.804660"
      ]
     },
     "metadata": {},
     "output_type": "display_data"
    },
    {
     "name": "stdout",
     "output_type": "stream",
     "text": [
      "----------------------------------------\n",
      "deviceprotection\n"
     ]
    },
    {
     "data": {
      "text/html": [
       "<div>\n",
       "<style scoped>\n",
       "    .dataframe tbody tr th:only-of-type {\n",
       "        vertical-align: middle;\n",
       "    }\n",
       "\n",
       "    .dataframe tbody tr th {\n",
       "        vertical-align: top;\n",
       "    }\n",
       "\n",
       "    .dataframe thead th {\n",
       "        text-align: right;\n",
       "    }\n",
       "</style>\n",
       "<table border=\"1\" class=\"dataframe\">\n",
       "  <thead>\n",
       "    <tr style=\"text-align: right;\">\n",
       "      <th></th>\n",
       "      <th>mean</th>\n",
       "      <th>count</th>\n",
       "      <th>diff</th>\n",
       "      <th>risk</th>\n",
       "    </tr>\n",
       "    <tr>\n",
       "      <th>deviceprotection</th>\n",
       "      <th></th>\n",
       "      <th></th>\n",
       "      <th></th>\n",
       "      <th></th>\n",
       "    </tr>\n",
       "  </thead>\n",
       "  <tbody>\n",
       "    <tr>\n",
       "      <th>no</th>\n",
       "      <td>0.395875</td>\n",
       "      <td>2473</td>\n",
       "      <td>0.125907</td>\n",
       "      <td>1.466379</td>\n",
       "    </tr>\n",
       "    <tr>\n",
       "      <th>no_internet_service</th>\n",
       "      <td>0.077805</td>\n",
       "      <td>1221</td>\n",
       "      <td>-0.192163</td>\n",
       "      <td>0.288201</td>\n",
       "    </tr>\n",
       "    <tr>\n",
       "      <th>yes</th>\n",
       "      <td>0.230412</td>\n",
       "      <td>1940</td>\n",
       "      <td>-0.039556</td>\n",
       "      <td>0.853480</td>\n",
       "    </tr>\n",
       "  </tbody>\n",
       "</table>\n",
       "</div>"
      ],
      "text/plain": [
       "                         mean  count      diff      risk\n",
       "deviceprotection                                        \n",
       "no                   0.395875   2473  0.125907  1.466379\n",
       "no_internet_service  0.077805   1221 -0.192163  0.288201\n",
       "yes                  0.230412   1940 -0.039556  0.853480"
      ]
     },
     "metadata": {},
     "output_type": "display_data"
    },
    {
     "name": "stdout",
     "output_type": "stream",
     "text": [
      "----------------------------------------\n",
      "techsupport\n"
     ]
    },
    {
     "data": {
      "text/html": [
       "<div>\n",
       "<style scoped>\n",
       "    .dataframe tbody tr th:only-of-type {\n",
       "        vertical-align: middle;\n",
       "    }\n",
       "\n",
       "    .dataframe tbody tr th {\n",
       "        vertical-align: top;\n",
       "    }\n",
       "\n",
       "    .dataframe thead th {\n",
       "        text-align: right;\n",
       "    }\n",
       "</style>\n",
       "<table border=\"1\" class=\"dataframe\">\n",
       "  <thead>\n",
       "    <tr style=\"text-align: right;\">\n",
       "      <th></th>\n",
       "      <th>mean</th>\n",
       "      <th>count</th>\n",
       "      <th>diff</th>\n",
       "      <th>risk</th>\n",
       "    </tr>\n",
       "    <tr>\n",
       "      <th>techsupport</th>\n",
       "      <th></th>\n",
       "      <th></th>\n",
       "      <th></th>\n",
       "      <th></th>\n",
       "    </tr>\n",
       "  </thead>\n",
       "  <tbody>\n",
       "    <tr>\n",
       "      <th>no</th>\n",
       "      <td>0.418914</td>\n",
       "      <td>2781</td>\n",
       "      <td>0.148946</td>\n",
       "      <td>1.551717</td>\n",
       "    </tr>\n",
       "    <tr>\n",
       "      <th>no_internet_service</th>\n",
       "      <td>0.077805</td>\n",
       "      <td>1221</td>\n",
       "      <td>-0.192163</td>\n",
       "      <td>0.288201</td>\n",
       "    </tr>\n",
       "    <tr>\n",
       "      <th>yes</th>\n",
       "      <td>0.159926</td>\n",
       "      <td>1632</td>\n",
       "      <td>-0.110042</td>\n",
       "      <td>0.592390</td>\n",
       "    </tr>\n",
       "  </tbody>\n",
       "</table>\n",
       "</div>"
      ],
      "text/plain": [
       "                         mean  count      diff      risk\n",
       "techsupport                                             \n",
       "no                   0.418914   2781  0.148946  1.551717\n",
       "no_internet_service  0.077805   1221 -0.192163  0.288201\n",
       "yes                  0.159926   1632 -0.110042  0.592390"
      ]
     },
     "metadata": {},
     "output_type": "display_data"
    },
    {
     "name": "stdout",
     "output_type": "stream",
     "text": [
      "----------------------------------------\n",
      "streamingtv\n"
     ]
    },
    {
     "data": {
      "text/html": [
       "<div>\n",
       "<style scoped>\n",
       "    .dataframe tbody tr th:only-of-type {\n",
       "        vertical-align: middle;\n",
       "    }\n",
       "\n",
       "    .dataframe tbody tr th {\n",
       "        vertical-align: top;\n",
       "    }\n",
       "\n",
       "    .dataframe thead th {\n",
       "        text-align: right;\n",
       "    }\n",
       "</style>\n",
       "<table border=\"1\" class=\"dataframe\">\n",
       "  <thead>\n",
       "    <tr style=\"text-align: right;\">\n",
       "      <th></th>\n",
       "      <th>mean</th>\n",
       "      <th>count</th>\n",
       "      <th>diff</th>\n",
       "      <th>risk</th>\n",
       "    </tr>\n",
       "    <tr>\n",
       "      <th>streamingtv</th>\n",
       "      <th></th>\n",
       "      <th></th>\n",
       "      <th></th>\n",
       "      <th></th>\n",
       "    </tr>\n",
       "  </thead>\n",
       "  <tbody>\n",
       "    <tr>\n",
       "      <th>no</th>\n",
       "      <td>0.342832</td>\n",
       "      <td>2246</td>\n",
       "      <td>0.072864</td>\n",
       "      <td>1.269897</td>\n",
       "    </tr>\n",
       "    <tr>\n",
       "      <th>no_internet_service</th>\n",
       "      <td>0.077805</td>\n",
       "      <td>1221</td>\n",
       "      <td>-0.192163</td>\n",
       "      <td>0.288201</td>\n",
       "    </tr>\n",
       "    <tr>\n",
       "      <th>yes</th>\n",
       "      <td>0.302723</td>\n",
       "      <td>2167</td>\n",
       "      <td>0.032755</td>\n",
       "      <td>1.121328</td>\n",
       "    </tr>\n",
       "  </tbody>\n",
       "</table>\n",
       "</div>"
      ],
      "text/plain": [
       "                         mean  count      diff      risk\n",
       "streamingtv                                             \n",
       "no                   0.342832   2246  0.072864  1.269897\n",
       "no_internet_service  0.077805   1221 -0.192163  0.288201\n",
       "yes                  0.302723   2167  0.032755  1.121328"
      ]
     },
     "metadata": {},
     "output_type": "display_data"
    },
    {
     "name": "stdout",
     "output_type": "stream",
     "text": [
      "----------------------------------------\n",
      "streamingmovies\n"
     ]
    },
    {
     "data": {
      "text/html": [
       "<div>\n",
       "<style scoped>\n",
       "    .dataframe tbody tr th:only-of-type {\n",
       "        vertical-align: middle;\n",
       "    }\n",
       "\n",
       "    .dataframe tbody tr th {\n",
       "        vertical-align: top;\n",
       "    }\n",
       "\n",
       "    .dataframe thead th {\n",
       "        text-align: right;\n",
       "    }\n",
       "</style>\n",
       "<table border=\"1\" class=\"dataframe\">\n",
       "  <thead>\n",
       "    <tr style=\"text-align: right;\">\n",
       "      <th></th>\n",
       "      <th>mean</th>\n",
       "      <th>count</th>\n",
       "      <th>diff</th>\n",
       "      <th>risk</th>\n",
       "    </tr>\n",
       "    <tr>\n",
       "      <th>streamingmovies</th>\n",
       "      <th></th>\n",
       "      <th></th>\n",
       "      <th></th>\n",
       "      <th></th>\n",
       "    </tr>\n",
       "  </thead>\n",
       "  <tbody>\n",
       "    <tr>\n",
       "      <th>no</th>\n",
       "      <td>0.338906</td>\n",
       "      <td>2213</td>\n",
       "      <td>0.068938</td>\n",
       "      <td>1.255358</td>\n",
       "    </tr>\n",
       "    <tr>\n",
       "      <th>no_internet_service</th>\n",
       "      <td>0.077805</td>\n",
       "      <td>1221</td>\n",
       "      <td>-0.192163</td>\n",
       "      <td>0.288201</td>\n",
       "    </tr>\n",
       "    <tr>\n",
       "      <th>yes</th>\n",
       "      <td>0.307273</td>\n",
       "      <td>2200</td>\n",
       "      <td>0.037305</td>\n",
       "      <td>1.138182</td>\n",
       "    </tr>\n",
       "  </tbody>\n",
       "</table>\n",
       "</div>"
      ],
      "text/plain": [
       "                         mean  count      diff      risk\n",
       "streamingmovies                                         \n",
       "no                   0.338906   2213  0.068938  1.255358\n",
       "no_internet_service  0.077805   1221 -0.192163  0.288201\n",
       "yes                  0.307273   2200  0.037305  1.138182"
      ]
     },
     "metadata": {},
     "output_type": "display_data"
    },
    {
     "name": "stdout",
     "output_type": "stream",
     "text": [
      "----------------------------------------\n",
      "contract\n"
     ]
    },
    {
     "data": {
      "text/html": [
       "<div>\n",
       "<style scoped>\n",
       "    .dataframe tbody tr th:only-of-type {\n",
       "        vertical-align: middle;\n",
       "    }\n",
       "\n",
       "    .dataframe tbody tr th {\n",
       "        vertical-align: top;\n",
       "    }\n",
       "\n",
       "    .dataframe thead th {\n",
       "        text-align: right;\n",
       "    }\n",
       "</style>\n",
       "<table border=\"1\" class=\"dataframe\">\n",
       "  <thead>\n",
       "    <tr style=\"text-align: right;\">\n",
       "      <th></th>\n",
       "      <th>mean</th>\n",
       "      <th>count</th>\n",
       "      <th>diff</th>\n",
       "      <th>risk</th>\n",
       "    </tr>\n",
       "    <tr>\n",
       "      <th>contract</th>\n",
       "      <th></th>\n",
       "      <th></th>\n",
       "      <th></th>\n",
       "      <th></th>\n",
       "    </tr>\n",
       "  </thead>\n",
       "  <tbody>\n",
       "    <tr>\n",
       "      <th>month-to-month</th>\n",
       "      <td>0.431701</td>\n",
       "      <td>3104</td>\n",
       "      <td>0.161733</td>\n",
       "      <td>1.599082</td>\n",
       "    </tr>\n",
       "    <tr>\n",
       "      <th>one_year</th>\n",
       "      <td>0.120573</td>\n",
       "      <td>1186</td>\n",
       "      <td>-0.149395</td>\n",
       "      <td>0.446621</td>\n",
       "    </tr>\n",
       "    <tr>\n",
       "      <th>two_year</th>\n",
       "      <td>0.028274</td>\n",
       "      <td>1344</td>\n",
       "      <td>-0.241694</td>\n",
       "      <td>0.104730</td>\n",
       "    </tr>\n",
       "  </tbody>\n",
       "</table>\n",
       "</div>"
      ],
      "text/plain": [
       "                    mean  count      diff      risk\n",
       "contract                                           \n",
       "month-to-month  0.431701   3104  0.161733  1.599082\n",
       "one_year        0.120573   1186 -0.149395  0.446621\n",
       "two_year        0.028274   1344 -0.241694  0.104730"
      ]
     },
     "metadata": {},
     "output_type": "display_data"
    },
    {
     "name": "stdout",
     "output_type": "stream",
     "text": [
      "----------------------------------------\n",
      "paperlessbilling\n"
     ]
    },
    {
     "data": {
      "text/html": [
       "<div>\n",
       "<style scoped>\n",
       "    .dataframe tbody tr th:only-of-type {\n",
       "        vertical-align: middle;\n",
       "    }\n",
       "\n",
       "    .dataframe tbody tr th {\n",
       "        vertical-align: top;\n",
       "    }\n",
       "\n",
       "    .dataframe thead th {\n",
       "        text-align: right;\n",
       "    }\n",
       "</style>\n",
       "<table border=\"1\" class=\"dataframe\">\n",
       "  <thead>\n",
       "    <tr style=\"text-align: right;\">\n",
       "      <th></th>\n",
       "      <th>mean</th>\n",
       "      <th>count</th>\n",
       "      <th>diff</th>\n",
       "      <th>risk</th>\n",
       "    </tr>\n",
       "    <tr>\n",
       "      <th>paperlessbilling</th>\n",
       "      <th></th>\n",
       "      <th></th>\n",
       "      <th></th>\n",
       "      <th></th>\n",
       "    </tr>\n",
       "  </thead>\n",
       "  <tbody>\n",
       "    <tr>\n",
       "      <th>no</th>\n",
       "      <td>0.172071</td>\n",
       "      <td>2313</td>\n",
       "      <td>-0.097897</td>\n",
       "      <td>0.637375</td>\n",
       "    </tr>\n",
       "    <tr>\n",
       "      <th>yes</th>\n",
       "      <td>0.338151</td>\n",
       "      <td>3321</td>\n",
       "      <td>0.068183</td>\n",
       "      <td>1.252560</td>\n",
       "    </tr>\n",
       "  </tbody>\n",
       "</table>\n",
       "</div>"
      ],
      "text/plain": [
       "                      mean  count      diff      risk\n",
       "paperlessbilling                                     \n",
       "no                0.172071   2313 -0.097897  0.637375\n",
       "yes               0.338151   3321  0.068183  1.252560"
      ]
     },
     "metadata": {},
     "output_type": "display_data"
    },
    {
     "name": "stdout",
     "output_type": "stream",
     "text": [
      "----------------------------------------\n",
      "paymentmethod\n"
     ]
    },
    {
     "data": {
      "text/html": [
       "<div>\n",
       "<style scoped>\n",
       "    .dataframe tbody tr th:only-of-type {\n",
       "        vertical-align: middle;\n",
       "    }\n",
       "\n",
       "    .dataframe tbody tr th {\n",
       "        vertical-align: top;\n",
       "    }\n",
       "\n",
       "    .dataframe thead th {\n",
       "        text-align: right;\n",
       "    }\n",
       "</style>\n",
       "<table border=\"1\" class=\"dataframe\">\n",
       "  <thead>\n",
       "    <tr style=\"text-align: right;\">\n",
       "      <th></th>\n",
       "      <th>mean</th>\n",
       "      <th>count</th>\n",
       "      <th>diff</th>\n",
       "      <th>risk</th>\n",
       "    </tr>\n",
       "    <tr>\n",
       "      <th>paymentmethod</th>\n",
       "      <th></th>\n",
       "      <th></th>\n",
       "      <th></th>\n",
       "      <th></th>\n",
       "    </tr>\n",
       "  </thead>\n",
       "  <tbody>\n",
       "    <tr>\n",
       "      <th>bank_transfer_(automatic)</th>\n",
       "      <td>0.168171</td>\n",
       "      <td>1219</td>\n",
       "      <td>-0.101797</td>\n",
       "      <td>0.622928</td>\n",
       "    </tr>\n",
       "    <tr>\n",
       "      <th>credit_card_(automatic)</th>\n",
       "      <td>0.164339</td>\n",
       "      <td>1217</td>\n",
       "      <td>-0.105630</td>\n",
       "      <td>0.608733</td>\n",
       "    </tr>\n",
       "    <tr>\n",
       "      <th>electronic_check</th>\n",
       "      <td>0.455890</td>\n",
       "      <td>1893</td>\n",
       "      <td>0.185922</td>\n",
       "      <td>1.688682</td>\n",
       "    </tr>\n",
       "    <tr>\n",
       "      <th>mailed_check</th>\n",
       "      <td>0.193870</td>\n",
       "      <td>1305</td>\n",
       "      <td>-0.076098</td>\n",
       "      <td>0.718121</td>\n",
       "    </tr>\n",
       "  </tbody>\n",
       "</table>\n",
       "</div>"
      ],
      "text/plain": [
       "                               mean  count      diff      risk\n",
       "paymentmethod                                                 \n",
       "bank_transfer_(automatic)  0.168171   1219 -0.101797  0.622928\n",
       "credit_card_(automatic)    0.164339   1217 -0.105630  0.608733\n",
       "electronic_check           0.455890   1893  0.185922  1.688682\n",
       "mailed_check               0.193870   1305 -0.076098  0.718121"
      ]
     },
     "metadata": {},
     "output_type": "display_data"
    },
    {
     "name": "stdout",
     "output_type": "stream",
     "text": [
      "----------------------------------------\n"
     ]
    }
   ],
   "source": [
    "for c in categorical:\n",
    "    print(c)\n",
    "    df_group  = df_full_train.groupby(c).churn.agg(['mean','count',])\n",
    "    df_group['diff'] = df_group['mean'] - global_churn\n",
    "    df_group['risk'] = df_group['mean'] / global_churn\n",
    "    display(df_group)\n",
    "    print('-'*40)"
   ]
  },
  {
   "cell_type": "markdown",
   "metadata": {},
   "source": [
    "#### Mutual informtion\n",
    "Mutual information - concept from information theory. It tells us how much we can learn about one variable if we know the value of the other"
   ]
  },
  {
   "cell_type": "code",
   "execution_count": 79,
   "metadata": {},
   "outputs": [],
   "source": [
    "from sklearn.metrics import mutual_info_score\n",
    "\n"
   ]
  },
  {
   "cell_type": "code",
   "execution_count": 82,
   "metadata": {},
   "outputs": [],
   "source": [
    "def mutual_info_churn_score(series):\n",
    "    return mutual_info_score(series,df_full_train.churn)"
   ]
  },
  {
   "cell_type": "code",
   "execution_count": 91,
   "metadata": {},
   "outputs": [
    {
     "data": {
      "text/plain": [
       "array([0.00011748, 0.00941022, 0.00996769, 0.01234582, 0.00022871,\n",
       "       0.00085745, 0.05586795, 0.06308525, 0.04692346, 0.04345287,\n",
       "       0.06103246, 0.03185333, 0.0315809 , 0.09832039, 0.01758883,\n",
       "       0.04321003])"
      ]
     },
     "execution_count": 91,
     "metadata": {},
     "output_type": "execute_result"
    }
   ],
   "source": [
    "mi = df_full_train[categorical].apply(mutual_info_churn_score)\n",
    "mi.sort_values(ascending=False)\n",
    "mi.values"
   ]
  },
  {
   "cell_type": "markdown",
   "metadata": {},
   "source": [
    "#### Feature Importance: Correlation\n",
    "measure dependecy betweeen 2 variables"
   ]
  },
  {
   "cell_type": "code",
   "execution_count": 92,
   "metadata": {},
   "outputs": [
    {
     "data": {
      "text/html": [
       "<div>\n",
       "<style scoped>\n",
       "    .dataframe tbody tr th:only-of-type {\n",
       "        vertical-align: middle;\n",
       "    }\n",
       "\n",
       "    .dataframe tbody tr th {\n",
       "        vertical-align: top;\n",
       "    }\n",
       "\n",
       "    .dataframe thead th {\n",
       "        text-align: right;\n",
       "    }\n",
       "</style>\n",
       "<table border=\"1\" class=\"dataframe\">\n",
       "  <thead>\n",
       "    <tr style=\"text-align: right;\">\n",
       "      <th></th>\n",
       "      <th>tenure</th>\n",
       "      <th>monthlycharges</th>\n",
       "      <th>totalcharges</th>\n",
       "    </tr>\n",
       "  </thead>\n",
       "  <tbody>\n",
       "    <tr>\n",
       "      <th>1814</th>\n",
       "      <td>12</td>\n",
       "      <td>19.70</td>\n",
       "      <td>258.35</td>\n",
       "    </tr>\n",
       "    <tr>\n",
       "      <th>5946</th>\n",
       "      <td>42</td>\n",
       "      <td>73.90</td>\n",
       "      <td>3160.55</td>\n",
       "    </tr>\n",
       "    <tr>\n",
       "      <th>3881</th>\n",
       "      <td>71</td>\n",
       "      <td>65.15</td>\n",
       "      <td>4681.75</td>\n",
       "    </tr>\n",
       "    <tr>\n",
       "      <th>2389</th>\n",
       "      <td>71</td>\n",
       "      <td>85.45</td>\n",
       "      <td>6300.85</td>\n",
       "    </tr>\n",
       "    <tr>\n",
       "      <th>3676</th>\n",
       "      <td>30</td>\n",
       "      <td>70.40</td>\n",
       "      <td>2044.75</td>\n",
       "    </tr>\n",
       "    <tr>\n",
       "      <th>...</th>\n",
       "      <td>...</td>\n",
       "      <td>...</td>\n",
       "      <td>...</td>\n",
       "    </tr>\n",
       "    <tr>\n",
       "      <th>905</th>\n",
       "      <td>9</td>\n",
       "      <td>100.50</td>\n",
       "      <td>918.60</td>\n",
       "    </tr>\n",
       "    <tr>\n",
       "      <th>5192</th>\n",
       "      <td>60</td>\n",
       "      <td>19.95</td>\n",
       "      <td>1189.90</td>\n",
       "    </tr>\n",
       "    <tr>\n",
       "      <th>3980</th>\n",
       "      <td>28</td>\n",
       "      <td>105.70</td>\n",
       "      <td>2979.50</td>\n",
       "    </tr>\n",
       "    <tr>\n",
       "      <th>235</th>\n",
       "      <td>2</td>\n",
       "      <td>54.40</td>\n",
       "      <td>114.10</td>\n",
       "    </tr>\n",
       "    <tr>\n",
       "      <th>5157</th>\n",
       "      <td>16</td>\n",
       "      <td>68.25</td>\n",
       "      <td>1114.85</td>\n",
       "    </tr>\n",
       "  </tbody>\n",
       "</table>\n",
       "<p>5634 rows × 3 columns</p>\n",
       "</div>"
      ],
      "text/plain": [
       "      tenure  monthlycharges  totalcharges\n",
       "1814      12           19.70        258.35\n",
       "5946      42           73.90       3160.55\n",
       "3881      71           65.15       4681.75\n",
       "2389      71           85.45       6300.85\n",
       "3676      30           70.40       2044.75\n",
       "...      ...             ...           ...\n",
       "905        9          100.50        918.60\n",
       "5192      60           19.95       1189.90\n",
       "3980      28          105.70       2979.50\n",
       "235        2           54.40        114.10\n",
       "5157      16           68.25       1114.85\n",
       "\n",
       "[5634 rows x 3 columns]"
      ]
     },
     "execution_count": 92,
     "metadata": {},
     "output_type": "execute_result"
    }
   ],
   "source": [
    "df_full_train[numeric]"
   ]
  },
  {
   "cell_type": "code",
   "execution_count": 93,
   "metadata": {},
   "outputs": [
    {
     "data": {
      "text/plain": [
       "tenure           -0.351885\n",
       "monthlycharges    0.196805\n",
       "totalcharges     -0.196353\n",
       "dtype: float64"
      ]
     },
     "execution_count": 93,
     "metadata": {},
     "output_type": "execute_result"
    }
   ],
   "source": [
    "df_full_train[numeric].corrwith(df_full_train.churn )"
   ]
  },
  {
   "cell_type": "code",
   "execution_count": 95,
   "metadata": {},
   "outputs": [
    {
     "data": {
      "text/plain": [
       "0.5953420669577875"
      ]
     },
     "execution_count": 95,
     "metadata": {},
     "output_type": "execute_result"
    }
   ],
   "source": [
    "df_full_train[df_full_train.tenure <= 2].churn.mean()"
   ]
  },
  {
   "cell_type": "code",
   "execution_count": 96,
   "metadata": {},
   "outputs": [
    {
     "data": {
      "text/plain": [
       "0.3994413407821229"
      ]
     },
     "execution_count": 96,
     "metadata": {},
     "output_type": "execute_result"
    }
   ],
   "source": [
    "df_full_train[(df_full_train.tenure > 2) & (df_full_train.tenure <=12)].churn.mean()"
   ]
  },
  {
   "cell_type": "code",
   "execution_count": 97,
   "metadata": {},
   "outputs": [
    {
     "data": {
      "text/plain": [
       "0.17634908339788277"
      ]
     },
     "execution_count": 97,
     "metadata": {},
     "output_type": "execute_result"
    }
   ],
   "source": [
    "df_full_train[df_full_train.tenure >12].churn.mean()"
   ]
  },
  {
   "cell_type": "code",
   "execution_count": 99,
   "metadata": {},
   "outputs": [
    {
     "data": {
      "text/plain": [
       "0.08795411089866156"
      ]
     },
     "execution_count": 99,
     "metadata": {},
     "output_type": "execute_result"
    }
   ],
   "source": [
    "df_full_train[df_full_train.monthlycharges<= 20].churn.mean()"
   ]
  },
  {
   "cell_type": "code",
   "execution_count": 102,
   "metadata": {},
   "outputs": [
    {
     "data": {
      "text/plain": [
       "0.043237250554323724"
      ]
     },
     "execution_count": 102,
     "metadata": {},
     "output_type": "execute_result"
    }
   ],
   "source": [
    "df_full_train[(df_full_train.tenure > 20) & (df_full_train.monthlycharges <=50)].churn.mean()"
   ]
  },
  {
   "cell_type": "code",
   "execution_count": 103,
   "metadata": {},
   "outputs": [
    {
     "data": {
      "text/plain": [
       "0.32499341585462205"
      ]
     },
     "execution_count": 103,
     "metadata": {},
     "output_type": "execute_result"
    }
   ],
   "source": [
    "df_full_train[df_full_train.monthlycharges > 50].churn.mean()"
   ]
  },
  {
   "cell_type": "markdown",
   "metadata": {},
   "source": [
    "## One-hot encoding"
   ]
  },
  {
   "cell_type": "code",
   "execution_count": 104,
   "metadata": {},
   "outputs": [],
   "source": [
    "from sklearn.feature_extraction import DictVectorizer"
   ]
  },
  {
   "cell_type": "code",
   "execution_count": 132,
   "metadata": {},
   "outputs": [],
   "source": [
    "dv = DictVectorizer()\n",
    "train_dicts = df_train[categorical + numeric].to_dict(orient='records')\n",
    "X_train = dv.fit_transform(train_dicts)\n",
    "\n",
    "val_dicts = df_val[categorical+numeric].to_dict(orient='records')\n",
    "X_val = dv.transform(val_dicts)"
   ]
  },
  {
   "cell_type": "code",
   "execution_count": 137,
   "metadata": {},
   "outputs": [],
   "source": [
    "def sigmoid(z):\n",
    "  return  1 / (1+ np.exp(-z))"
   ]
  },
  {
   "cell_type": "code",
   "execution_count": 141,
   "metadata": {},
   "outputs": [],
   "source": [
    "z = np.linspace(-10,10,50)"
   ]
  },
  {
   "cell_type": "code",
   "execution_count": 142,
   "metadata": {},
   "outputs": [
    {
     "data": {
      "text/plain": [
       "[<matplotlib.lines.Line2D at 0x7f40fd520640>]"
      ]
     },
     "execution_count": 142,
     "metadata": {},
     "output_type": "execute_result"
    },
    {
     "data": {
      "image/png": "[encoded data removed]",
      "text/plain": [
       "<Figure size 432x288 with 1 Axes>"
      ]
     },
     "metadata": {
      "needs_background": "light"
     },
     "output_type": "display_data"
    }
   ],
   "source": [
    "plt.plot(z,sigmoid(z))"
   ]
  },
  {
   "cell_type": "code",
   "execution_count": null,
   "metadata": {},
   "outputs": [],
   "source": [
    "def linear_regression(xi):\n",
    "    result = w0\n",
    "\n",
    "    for j in range(xi):\n",
    "        result = result + x[j]*w[j]\n",
    "\n",
    "    return result\n",
    "\n",
    "def logistic_regression(xi):\n",
    "    score = w0\n",
    "\n",
    "    for j in range(xi):\n",
    "        score = score + x[j]*w[j]\n",
    "        result = sigmoid(score)\n",
    "    return result\n"
   ]
  },
  {
   "cell_type": "markdown",
   "metadata": {},
   "source": [
    "## Training logistic regression with scikit learn"
   ]
  },
  {
   "cell_type": "code",
   "execution_count": 143,
   "metadata": {
    "scrolled": true
   },
   "outputs": [],
   "source": [
    "from sklearn.linear_model import LogisticRegression"
   ]
  },
  {
   "cell_type": "code",
   "execution_count": 144,
   "metadata": {},
   "outputs": [
    {
     "data": {
      "text/plain": [
       "LogisticRegression()"
      ]
     },
     "execution_count": 144,
     "metadata": {},
     "output_type": "execute_result"
    }
   ],
   "source": [
    "model = LogisticRegression()\n",
    "model.fit(X_train,y_train)"
   ]
  },
  {
   "cell_type": "code",
   "execution_count": 157,
   "metadata": {},
   "outputs": [
    {
     "data": {
      "text/plain": [
       "-0.10903415888243773"
      ]
     },
     "execution_count": 157,
     "metadata": {},
     "output_type": "execute_result"
    }
   ],
   "source": [
    "model.intercept_[0]"
   ]
  },
  {
   "cell_type": "code",
   "execution_count": 156,
   "metadata": {},
   "outputs": [
    {
     "data": {
      "text/plain": [
       "array([ 0.475, -0.175, -0.408, -0.03 , -0.078,  0.063, -0.089, -0.081,\n",
       "       -0.034, -0.073, -0.335,  0.316, -0.089,  0.004, -0.258,  0.141,\n",
       "        0.009,  0.063, -0.089, -0.081,  0.266, -0.089, -0.284, -0.231,\n",
       "        0.124, -0.166,  0.058, -0.087, -0.032,  0.07 , -0.059,  0.141,\n",
       "       -0.249,  0.215, -0.12 , -0.089,  0.102, -0.071, -0.089,  0.052,\n",
       "        0.213, -0.089, -0.232, -0.07 ,  0.   ])"
      ]
     },
     "execution_count": 156,
     "metadata": {},
     "output_type": "execute_result"
    }
   ],
   "source": [
    "model.coef_[0].round(3)"
   ]
  },
  {
   "cell_type": "markdown",
   "metadata": {},
   "source": [
    "The 2 columns for y_pred correspond to predictions for 0, and 1. we are interested in second column that corresponds to 1"
   ]
  },
  {
   "cell_type": "code",
   "execution_count": 147,
   "metadata": {},
   "outputs": [
    {
     "data": {
      "text/plain": [
       "array([[0.99100284, 0.00899716],\n",
       "       [0.7954763 , 0.2045237 ],\n",
       "       [0.78777784, 0.21222216],\n",
       "       ...,\n",
       "       [0.86360575, 0.13639425],\n",
       "       [0.20022505, 0.79977495],\n",
       "       [0.16258923, 0.83741077]])"
      ]
     },
     "execution_count": 147,
     "metadata": {},
     "output_type": "execute_result"
    }
   ],
   "source": [
    "y_pred = model.predict_proba(X_val)\n",
    "y_pred"
   ]
  },
  {
   "cell_type": "code",
   "execution_count": 149,
   "metadata": {},
   "outputs": [
    {
     "data": {
      "text/plain": [
       "array([0.00899716, 0.2045237 , 0.21222216, ..., 0.13639425, 0.79977495,\n",
       "       0.83741077])"
      ]
     },
     "execution_count": 149,
     "metadata": {},
     "output_type": "execute_result"
    }
   ],
   "source": [
    "y_pred = model.predict_proba(X_val)[:,1]\n",
    "y_pred"
   ]
  },
  {
   "cell_type": "code",
   "execution_count": 150,
   "metadata": {},
   "outputs": [],
   "source": [
    "churn_decision = (y_pred >= 0.5)"
   ]
  },
  {
   "cell_type": "markdown",
   "metadata": {},
   "source": [
    "customers who are more likely to churn"
   ]
  },
  {
   "cell_type": "code",
   "execution_count": 151,
   "metadata": {},
   "outputs": [
    {
     "data": {
      "text/plain": [
       "3       8433-wxgna\n",
       "8       3440-jpscl\n",
       "11      2637-fkfsy\n",
       "12      7228-omtpn\n",
       "19      6711-fldfb\n",
       "           ...    \n",
       "1397    5976-jcjrh\n",
       "1398    2034-cgrhz\n",
       "1399    5276-kqwhg\n",
       "1407    6521-yytyi\n",
       "1408    3049-solay\n",
       "Name: customerid, Length: 311, dtype: object"
      ]
     },
     "execution_count": 151,
     "metadata": {},
     "output_type": "execute_result"
    }
   ],
   "source": [
    "df_val[churn_decision].customerid"
   ]
  },
  {
   "cell_type": "code",
   "execution_count": 152,
   "metadata": {},
   "outputs": [
    {
     "data": {
      "text/plain": [
       "array([0, 0, 0, ..., 0, 1, 1])"
      ]
     },
     "execution_count": 152,
     "metadata": {},
     "output_type": "execute_result"
    }
   ],
   "source": [
    "y_val"
   ]
  },
  {
   "cell_type": "code",
   "execution_count": 153,
   "metadata": {},
   "outputs": [
    {
     "data": {
      "text/plain": [
       "array([0, 0, 0, ..., 0, 1, 1])"
      ]
     },
     "execution_count": 153,
     "metadata": {},
     "output_type": "execute_result"
    }
   ],
   "source": [
    "churn_decision.astype(int)"
   ]
  },
  {
   "cell_type": "code",
   "execution_count": 154,
   "metadata": {},
   "outputs": [
    {
     "data": {
      "text/plain": [
       "0.8034066713981547"
      ]
     },
     "execution_count": 154,
     "metadata": {},
     "output_type": "execute_result"
    }
   ],
   "source": [
    "(y_val == churn_decision).mean()"
   ]
  },
  {
   "cell_type": "markdown",
   "metadata": {},
   "source": [
    "## Model interpretation"
   ]
  },
  {
   "cell_type": "code",
   "execution_count": 159,
   "metadata": {},
   "outputs": [
    {
     "data": {
      "text/plain": [
       "['contract=month-to-month',\n",
       " 'contract=one_year',\n",
       " 'contract=two_year',\n",
       " 'dependents=no',\n",
       " 'dependents=yes',\n",
       " 'deviceprotection=no',\n",
       " 'deviceprotection=no_internet_service',\n",
       " 'deviceprotection=yes',\n",
       " 'gender=female',\n",
       " 'gender=male',\n",
       " 'internetservice=dsl',\n",
       " 'internetservice=fiber_optic',\n",
       " 'internetservice=no',\n",
       " 'monthlycharges',\n",
       " 'multiplelines=no',\n",
       " 'multiplelines=no_phone_service',\n",
       " 'multiplelines=yes',\n",
       " 'onlinebackup=no',\n",
       " 'onlinebackup=no_internet_service',\n",
       " 'onlinebackup=yes',\n",
       " 'onlinesecurity=no',\n",
       " 'onlinesecurity=no_internet_service',\n",
       " 'onlinesecurity=yes',\n",
       " 'paperlessbilling=no',\n",
       " 'paperlessbilling=yes',\n",
       " 'partner=no',\n",
       " 'partner=yes',\n",
       " 'paymentmethod=bank_transfer_(automatic)',\n",
       " 'paymentmethod=credit_card_(automatic)',\n",
       " 'paymentmethod=electronic_check',\n",
       " 'paymentmethod=mailed_check',\n",
       " 'phoneservice=no',\n",
       " 'phoneservice=yes',\n",
       " 'seniorcitizen',\n",
       " 'streamingmovies=no',\n",
       " 'streamingmovies=no_internet_service',\n",
       " 'streamingmovies=yes',\n",
       " 'streamingtv=no',\n",
       " 'streamingtv=no_internet_service',\n",
       " 'streamingtv=yes',\n",
       " 'techsupport=no',\n",
       " 'techsupport=no_internet_service',\n",
       " 'techsupport=yes',\n",
       " 'tenure',\n",
       " 'totalcharges']"
      ]
     },
     "execution_count": 159,
     "metadata": {},
     "output_type": "execute_result"
    }
   ],
   "source": [
    "dv.get_feature_names()"
   ]
  },
  {
   "cell_type": "code",
   "execution_count": 158,
   "metadata": {},
   "outputs": [
    {
     "data": {
      "text/plain": [
       "array([ 0.475, -0.175, -0.408, -0.03 , -0.078,  0.063, -0.089, -0.081,\n",
       "       -0.034, -0.073, -0.335,  0.316, -0.089,  0.004, -0.258,  0.141,\n",
       "        0.009,  0.063, -0.089, -0.081,  0.266, -0.089, -0.284, -0.231,\n",
       "        0.124, -0.166,  0.058, -0.087, -0.032,  0.07 , -0.059,  0.141,\n",
       "       -0.249,  0.215, -0.12 , -0.089,  0.102, -0.071, -0.089,  0.052,\n",
       "        0.213, -0.089, -0.232, -0.07 ,  0.   ])"
      ]
     },
     "execution_count": 158,
     "metadata": {},
     "output_type": "execute_result"
    }
   ],
   "source": [
    "model.coef_[0].round(3)"
   ]
  },
  {
   "cell_type": "markdown",
   "metadata": {},
   "source": [
    "Zip function joins the ith element of each list"
   ]
  },
  {
   "cell_type": "code",
   "execution_count": 162,
   "metadata": {},
   "outputs": [
    {
     "name": "stdout",
     "output_type": "stream",
     "text": [
      "{1: 'a', 2: 'b', 3: 'c', 4: 'd'}\n",
      "[(1, 'a'), (2, 'b'), (3, 'c'), (4, 'd')]\n"
     ]
    }
   ],
   "source": [
    "a = [1,2,3,4]\n",
    "b = 'abcd'\n",
    "\n",
    "print(dict(zip(a,b)))\n",
    "print(list(zip(a,b)))"
   ]
  },
  {
   "cell_type": "code",
   "execution_count": 164,
   "metadata": {},
   "outputs": [
    {
     "data": {
      "text/plain": [
       "{'contract=month-to-month': 0.475,\n",
       " 'contract=one_year': -0.175,\n",
       " 'contract=two_year': -0.408,\n",
       " 'dependents=no': -0.03,\n",
       " 'dependents=yes': -0.078,\n",
       " 'deviceprotection=no': 0.063,\n",
       " 'deviceprotection=no_internet_service': -0.089,\n",
       " 'deviceprotection=yes': -0.081,\n",
       " 'gender=female': -0.034,\n",
       " 'gender=male': -0.073,\n",
       " 'internetservice=dsl': -0.335,\n",
       " 'internetservice=fiber_optic': 0.316,\n",
       " 'internetservice=no': -0.089,\n",
       " 'monthlycharges': 0.004,\n",
       " 'multiplelines=no': -0.258,\n",
       " 'multiplelines=no_phone_service': 0.141,\n",
       " 'multiplelines=yes': 0.009,\n",
       " 'onlinebackup=no': 0.063,\n",
       " 'onlinebackup=no_internet_service': -0.089,\n",
       " 'onlinebackup=yes': -0.081,\n",
       " 'onlinesecurity=no': 0.266,\n",
       " 'onlinesecurity=no_internet_service': -0.089,\n",
       " 'onlinesecurity=yes': -0.284,\n",
       " 'paperlessbilling=no': -0.231,\n",
       " 'paperlessbilling=yes': 0.124,\n",
       " 'partner=no': -0.166,\n",
       " 'partner=yes': 0.058,\n",
       " 'paymentmethod=bank_transfer_(automatic)': -0.087,\n",
       " 'paymentmethod=credit_card_(automatic)': -0.032,\n",
       " 'paymentmethod=electronic_check': 0.07,\n",
       " 'paymentmethod=mailed_check': -0.059,\n",
       " 'phoneservice=no': 0.141,\n",
       " 'phoneservice=yes': -0.249,\n",
       " 'seniorcitizen': 0.215,\n",
       " 'streamingmovies=no': -0.12,\n",
       " 'streamingmovies=no_internet_service': -0.089,\n",
       " 'streamingmovies=yes': 0.102,\n",
       " 'streamingtv=no': -0.071,\n",
       " 'streamingtv=no_internet_service': -0.089,\n",
       " 'streamingtv=yes': 0.052,\n",
       " 'techsupport=no': 0.213,\n",
       " 'techsupport=no_internet_service': -0.089,\n",
       " 'techsupport=yes': -0.232,\n",
       " 'tenure': -0.07,\n",
       " 'totalcharges': 0.0}"
      ]
     },
     "execution_count": 164,
     "metadata": {},
     "output_type": "execute_result"
    }
   ],
   "source": [
    "dict(zip(dv.get_feature_names(),model.coef_[0].round(3)))"
   ]
  },
  {
   "cell_type": "code",
   "execution_count": 170,
   "metadata": {},
   "outputs": [],
   "source": [
    "small = ['contract','tenure','monthlycharges']"
   ]
  },
  {
   "cell_type": "code",
   "execution_count": 172,
   "metadata": {},
   "outputs": [
    {
     "data": {
      "text/plain": [
       "[{'contract': 'two_year', 'tenure': 72, 'monthlycharges': 115.5},\n",
       " {'contract': 'month-to-month', 'tenure': 10, 'monthlycharges': 95.25},\n",
       " {'contract': 'month-to-month', 'tenure': 5, 'monthlycharges': 75.55},\n",
       " {'contract': 'month-to-month', 'tenure': 5, 'monthlycharges': 80.85},\n",
       " {'contract': 'two_year', 'tenure': 18, 'monthlycharges': 20.1},\n",
       " {'contract': 'month-to-month', 'tenure': 4, 'monthlycharges': 30.5},\n",
       " {'contract': 'month-to-month', 'tenure': 1, 'monthlycharges': 75.1},\n",
       " {'contract': 'month-to-month', 'tenure': 1, 'monthlycharges': 70.3},\n",
       " {'contract': 'two_year', 'tenure': 72, 'monthlycharges': 19.75},\n",
       " {'contract': 'month-to-month', 'tenure': 6, 'monthlycharges': 109.9}]"
      ]
     },
     "execution_count": 172,
     "metadata": {},
     "output_type": "execute_result"
    }
   ],
   "source": [
    "df_train[small].iloc[:10].to_dict(orient='records')"
   ]
  },
  {
   "cell_type": "code",
   "execution_count": 173,
   "metadata": {},
   "outputs": [],
   "source": [
    "dicts_train_small = df_train[small].to_dict(orient='records')\n",
    "dicts_val_small = df_val[small].to_dict(orient='records')"
   ]
  },
  {
   "cell_type": "code",
   "execution_count": 174,
   "metadata": {},
   "outputs": [],
   "source": [
    "dv_small  = DictVectorizer(sparse=False)\n",
    "\n",
    "X_train_small = dv_small.fit_transform(dicts_train_small)\n",
    "X_val_small = dv_small.transform(dicts_val_small)\n"
   ]
  },
  {
   "cell_type": "code",
   "execution_count": 176,
   "metadata": {},
   "outputs": [
    {
     "data": {
      "text/plain": [
       "LogisticRegression()"
      ]
     },
     "execution_count": 176,
     "metadata": {},
     "output_type": "execute_result"
    }
   ],
   "source": [
    "model_small = LogisticRegression()\n",
    "model_small.fit(X_train_small,y_train)"
   ]
  },
  {
   "cell_type": "code",
   "execution_count": 178,
   "metadata": {},
   "outputs": [
    {
     "data": {
      "text/plain": [
       "-2.4767756616411645"
      ]
     },
     "execution_count": 178,
     "metadata": {},
     "output_type": "execute_result"
    }
   ],
   "source": [
    "w0 = model_small.intercept_[0]\n",
    "w0 "
   ]
  },
  {
   "cell_type": "code",
   "execution_count": 180,
   "metadata": {},
   "outputs": [
    {
     "data": {
      "text/plain": [
       "array([ 0.97 , -0.025, -0.949,  0.027, -0.036])"
      ]
     },
     "execution_count": 180,
     "metadata": {},
     "output_type": "execute_result"
    }
   ],
   "source": [
    "w = model_small.coef_[0].round(3)\n",
    "w"
   ]
  },
  {
   "cell_type": "code",
   "execution_count": 181,
   "metadata": {},
   "outputs": [
    {
     "data": {
      "text/plain": [
       "{'contract=month-to-month': 0.97,\n",
       " 'contract=one_year': -0.025,\n",
       " 'contract=two_year': -0.949,\n",
       " 'monthlycharges': 0.027,\n",
       " 'tenure': -0.036}"
      ]
     },
     "execution_count": 181,
     "metadata": {},
     "output_type": "execute_result"
    }
   ],
   "source": [
    "dict(zip(dv_small.get_feature_names(),w))"
   ]
  },
  {
   "cell_type": "markdown",
   "metadata": {},
   "source": [
    "## Using the model"
   ]
  },
  {
   "cell_type": "code",
   "execution_count": 182,
   "metadata": {},
   "outputs": [
    {
     "data": {
      "text/html": [
       "<div>\n",
       "<style scoped>\n",
       "    .dataframe tbody tr th:only-of-type {\n",
       "        vertical-align: middle;\n",
       "    }\n",
       "\n",
       "    .dataframe tbody tr th {\n",
       "        vertical-align: top;\n",
       "    }\n",
       "\n",
       "    .dataframe thead th {\n",
       "        text-align: right;\n",
       "    }\n",
       "</style>\n",
       "<table border=\"1\" class=\"dataframe\">\n",
       "  <thead>\n",
       "    <tr style=\"text-align: right;\">\n",
       "      <th></th>\n",
       "      <th>customerid</th>\n",
       "      <th>gender</th>\n",
       "      <th>seniorcitizen</th>\n",
       "      <th>partner</th>\n",
       "      <th>dependents</th>\n",
       "      <th>tenure</th>\n",
       "      <th>phoneservice</th>\n",
       "      <th>multiplelines</th>\n",
       "      <th>internetservice</th>\n",
       "      <th>onlinesecurity</th>\n",
       "      <th>...</th>\n",
       "      <th>deviceprotection</th>\n",
       "      <th>techsupport</th>\n",
       "      <th>streamingtv</th>\n",
       "      <th>streamingmovies</th>\n",
       "      <th>contract</th>\n",
       "      <th>paperlessbilling</th>\n",
       "      <th>paymentmethod</th>\n",
       "      <th>monthlycharges</th>\n",
       "      <th>totalcharges</th>\n",
       "      <th>churn</th>\n",
       "    </tr>\n",
       "  </thead>\n",
       "  <tbody>\n",
       "    <tr>\n",
       "      <th>1814</th>\n",
       "      <td>5442-pptjy</td>\n",
       "      <td>male</td>\n",
       "      <td>0</td>\n",
       "      <td>yes</td>\n",
       "      <td>yes</td>\n",
       "      <td>12</td>\n",
       "      <td>yes</td>\n",
       "      <td>no</td>\n",
       "      <td>no</td>\n",
       "      <td>no_internet_service</td>\n",
       "      <td>...</td>\n",
       "      <td>no_internet_service</td>\n",
       "      <td>no_internet_service</td>\n",
       "      <td>no_internet_service</td>\n",
       "      <td>no_internet_service</td>\n",
       "      <td>two_year</td>\n",
       "      <td>no</td>\n",
       "      <td>mailed_check</td>\n",
       "      <td>19.70</td>\n",
       "      <td>258.35</td>\n",
       "      <td>0</td>\n",
       "    </tr>\n",
       "    <tr>\n",
       "      <th>5946</th>\n",
       "      <td>6261-rcvns</td>\n",
       "      <td>female</td>\n",
       "      <td>0</td>\n",
       "      <td>no</td>\n",
       "      <td>no</td>\n",
       "      <td>42</td>\n",
       "      <td>yes</td>\n",
       "      <td>no</td>\n",
       "      <td>dsl</td>\n",
       "      <td>yes</td>\n",
       "      <td>...</td>\n",
       "      <td>yes</td>\n",
       "      <td>yes</td>\n",
       "      <td>no</td>\n",
       "      <td>yes</td>\n",
       "      <td>one_year</td>\n",
       "      <td>no</td>\n",
       "      <td>credit_card_(automatic)</td>\n",
       "      <td>73.90</td>\n",
       "      <td>3160.55</td>\n",
       "      <td>1</td>\n",
       "    </tr>\n",
       "    <tr>\n",
       "      <th>3881</th>\n",
       "      <td>2176-osjuv</td>\n",
       "      <td>male</td>\n",
       "      <td>0</td>\n",
       "      <td>yes</td>\n",
       "      <td>no</td>\n",
       "      <td>71</td>\n",
       "      <td>yes</td>\n",
       "      <td>yes</td>\n",
       "      <td>dsl</td>\n",
       "      <td>yes</td>\n",
       "      <td>...</td>\n",
       "      <td>no</td>\n",
       "      <td>yes</td>\n",
       "      <td>no</td>\n",
       "      <td>no</td>\n",
       "      <td>two_year</td>\n",
       "      <td>no</td>\n",
       "      <td>bank_transfer_(automatic)</td>\n",
       "      <td>65.15</td>\n",
       "      <td>4681.75</td>\n",
       "      <td>0</td>\n",
       "    </tr>\n",
       "    <tr>\n",
       "      <th>2389</th>\n",
       "      <td>6161-erdgd</td>\n",
       "      <td>male</td>\n",
       "      <td>0</td>\n",
       "      <td>yes</td>\n",
       "      <td>yes</td>\n",
       "      <td>71</td>\n",
       "      <td>yes</td>\n",
       "      <td>yes</td>\n",
       "      <td>dsl</td>\n",
       "      <td>yes</td>\n",
       "      <td>...</td>\n",
       "      <td>yes</td>\n",
       "      <td>yes</td>\n",
       "      <td>yes</td>\n",
       "      <td>yes</td>\n",
       "      <td>one_year</td>\n",
       "      <td>no</td>\n",
       "      <td>electronic_check</td>\n",
       "      <td>85.45</td>\n",
       "      <td>6300.85</td>\n",
       "      <td>0</td>\n",
       "    </tr>\n",
       "    <tr>\n",
       "      <th>3676</th>\n",
       "      <td>2364-ufrom</td>\n",
       "      <td>male</td>\n",
       "      <td>0</td>\n",
       "      <td>no</td>\n",
       "      <td>no</td>\n",
       "      <td>30</td>\n",
       "      <td>yes</td>\n",
       "      <td>no</td>\n",
       "      <td>dsl</td>\n",
       "      <td>yes</td>\n",
       "      <td>...</td>\n",
       "      <td>no</td>\n",
       "      <td>yes</td>\n",
       "      <td>yes</td>\n",
       "      <td>no</td>\n",
       "      <td>one_year</td>\n",
       "      <td>no</td>\n",
       "      <td>electronic_check</td>\n",
       "      <td>70.40</td>\n",
       "      <td>2044.75</td>\n",
       "      <td>0</td>\n",
       "    </tr>\n",
       "    <tr>\n",
       "      <th>...</th>\n",
       "      <td>...</td>\n",
       "      <td>...</td>\n",
       "      <td>...</td>\n",
       "      <td>...</td>\n",
       "      <td>...</td>\n",
       "      <td>...</td>\n",
       "      <td>...</td>\n",
       "      <td>...</td>\n",
       "      <td>...</td>\n",
       "      <td>...</td>\n",
       "      <td>...</td>\n",
       "      <td>...</td>\n",
       "      <td>...</td>\n",
       "      <td>...</td>\n",
       "      <td>...</td>\n",
       "      <td>...</td>\n",
       "      <td>...</td>\n",
       "      <td>...</td>\n",
       "      <td>...</td>\n",
       "      <td>...</td>\n",
       "      <td>...</td>\n",
       "    </tr>\n",
       "    <tr>\n",
       "      <th>905</th>\n",
       "      <td>0781-lkxbr</td>\n",
       "      <td>male</td>\n",
       "      <td>1</td>\n",
       "      <td>no</td>\n",
       "      <td>no</td>\n",
       "      <td>9</td>\n",
       "      <td>yes</td>\n",
       "      <td>yes</td>\n",
       "      <td>fiber_optic</td>\n",
       "      <td>no</td>\n",
       "      <td>...</td>\n",
       "      <td>yes</td>\n",
       "      <td>no</td>\n",
       "      <td>yes</td>\n",
       "      <td>yes</td>\n",
       "      <td>month-to-month</td>\n",
       "      <td>yes</td>\n",
       "      <td>electronic_check</td>\n",
       "      <td>100.50</td>\n",
       "      <td>918.60</td>\n",
       "      <td>1</td>\n",
       "    </tr>\n",
       "    <tr>\n",
       "      <th>5192</th>\n",
       "      <td>3507-gasnp</td>\n",
       "      <td>male</td>\n",
       "      <td>0</td>\n",
       "      <td>no</td>\n",
       "      <td>yes</td>\n",
       "      <td>60</td>\n",
       "      <td>yes</td>\n",
       "      <td>no</td>\n",
       "      <td>no</td>\n",
       "      <td>no_internet_service</td>\n",
       "      <td>...</td>\n",
       "      <td>no_internet_service</td>\n",
       "      <td>no_internet_service</td>\n",
       "      <td>no_internet_service</td>\n",
       "      <td>no_internet_service</td>\n",
       "      <td>two_year</td>\n",
       "      <td>no</td>\n",
       "      <td>mailed_check</td>\n",
       "      <td>19.95</td>\n",
       "      <td>1189.90</td>\n",
       "      <td>0</td>\n",
       "    </tr>\n",
       "    <tr>\n",
       "      <th>3980</th>\n",
       "      <td>8868-wozgu</td>\n",
       "      <td>male</td>\n",
       "      <td>0</td>\n",
       "      <td>no</td>\n",
       "      <td>no</td>\n",
       "      <td>28</td>\n",
       "      <td>yes</td>\n",
       "      <td>yes</td>\n",
       "      <td>fiber_optic</td>\n",
       "      <td>no</td>\n",
       "      <td>...</td>\n",
       "      <td>yes</td>\n",
       "      <td>no</td>\n",
       "      <td>yes</td>\n",
       "      <td>yes</td>\n",
       "      <td>month-to-month</td>\n",
       "      <td>yes</td>\n",
       "      <td>electronic_check</td>\n",
       "      <td>105.70</td>\n",
       "      <td>2979.50</td>\n",
       "      <td>1</td>\n",
       "    </tr>\n",
       "    <tr>\n",
       "      <th>235</th>\n",
       "      <td>1251-krreg</td>\n",
       "      <td>male</td>\n",
       "      <td>0</td>\n",
       "      <td>no</td>\n",
       "      <td>no</td>\n",
       "      <td>2</td>\n",
       "      <td>yes</td>\n",
       "      <td>yes</td>\n",
       "      <td>dsl</td>\n",
       "      <td>no</td>\n",
       "      <td>...</td>\n",
       "      <td>no</td>\n",
       "      <td>no</td>\n",
       "      <td>no</td>\n",
       "      <td>no</td>\n",
       "      <td>month-to-month</td>\n",
       "      <td>yes</td>\n",
       "      <td>mailed_check</td>\n",
       "      <td>54.40</td>\n",
       "      <td>114.10</td>\n",
       "      <td>1</td>\n",
       "    </tr>\n",
       "    <tr>\n",
       "      <th>5157</th>\n",
       "      <td>5840-nvdcg</td>\n",
       "      <td>female</td>\n",
       "      <td>0</td>\n",
       "      <td>yes</td>\n",
       "      <td>yes</td>\n",
       "      <td>16</td>\n",
       "      <td>yes</td>\n",
       "      <td>no</td>\n",
       "      <td>dsl</td>\n",
       "      <td>yes</td>\n",
       "      <td>...</td>\n",
       "      <td>no</td>\n",
       "      <td>yes</td>\n",
       "      <td>no</td>\n",
       "      <td>yes</td>\n",
       "      <td>two_year</td>\n",
       "      <td>no</td>\n",
       "      <td>bank_transfer_(automatic)</td>\n",
       "      <td>68.25</td>\n",
       "      <td>1114.85</td>\n",
       "      <td>0</td>\n",
       "    </tr>\n",
       "  </tbody>\n",
       "</table>\n",
       "<p>5634 rows × 21 columns</p>\n",
       "</div>"
      ],
      "text/plain": [
       "      customerid  gender  seniorcitizen partner dependents  tenure  \\\n",
       "1814  5442-pptjy    male              0     yes        yes      12   \n",
       "5946  6261-rcvns  female              0      no         no      42   \n",
       "3881  2176-osjuv    male              0     yes         no      71   \n",
       "2389  6161-erdgd    male              0     yes        yes      71   \n",
       "3676  2364-ufrom    male              0      no         no      30   \n",
       "...          ...     ...            ...     ...        ...     ...   \n",
       "905   0781-lkxbr    male              1      no         no       9   \n",
       "5192  3507-gasnp    male              0      no        yes      60   \n",
       "3980  8868-wozgu    male              0      no         no      28   \n",
       "235   1251-krreg    male              0      no         no       2   \n",
       "5157  5840-nvdcg  female              0     yes        yes      16   \n",
       "\n",
       "     phoneservice multiplelines internetservice       onlinesecurity  ...  \\\n",
       "1814          yes            no              no  no_internet_service  ...   \n",
       "5946          yes            no             dsl                  yes  ...   \n",
       "3881          yes           yes             dsl                  yes  ...   \n",
       "2389          yes           yes             dsl                  yes  ...   \n",
       "3676          yes            no             dsl                  yes  ...   \n",
       "...           ...           ...             ...                  ...  ...   \n",
       "905           yes           yes     fiber_optic                   no  ...   \n",
       "5192          yes            no              no  no_internet_service  ...   \n",
       "3980          yes           yes     fiber_optic                   no  ...   \n",
       "235           yes           yes             dsl                   no  ...   \n",
       "5157          yes            no             dsl                  yes  ...   \n",
       "\n",
       "         deviceprotection          techsupport          streamingtv  \\\n",
       "1814  no_internet_service  no_internet_service  no_internet_service   \n",
       "5946                  yes                  yes                   no   \n",
       "3881                   no                  yes                   no   \n",
       "2389                  yes                  yes                  yes   \n",
       "3676                   no                  yes                  yes   \n",
       "...                   ...                  ...                  ...   \n",
       "905                   yes                   no                  yes   \n",
       "5192  no_internet_service  no_internet_service  no_internet_service   \n",
       "3980                  yes                   no                  yes   \n",
       "235                    no                   no                   no   \n",
       "5157                   no                  yes                   no   \n",
       "\n",
       "          streamingmovies        contract paperlessbilling  \\\n",
       "1814  no_internet_service        two_year               no   \n",
       "5946                  yes        one_year               no   \n",
       "3881                   no        two_year               no   \n",
       "2389                  yes        one_year               no   \n",
       "3676                   no        one_year               no   \n",
       "...                   ...             ...              ...   \n",
       "905                   yes  month-to-month              yes   \n",
       "5192  no_internet_service        two_year               no   \n",
       "3980                  yes  month-to-month              yes   \n",
       "235                    no  month-to-month              yes   \n",
       "5157                  yes        two_year               no   \n",
       "\n",
       "                  paymentmethod monthlycharges  totalcharges  churn  \n",
       "1814               mailed_check          19.70        258.35      0  \n",
       "5946    credit_card_(automatic)          73.90       3160.55      1  \n",
       "3881  bank_transfer_(automatic)          65.15       4681.75      0  \n",
       "2389           electronic_check          85.45       6300.85      0  \n",
       "3676           electronic_check          70.40       2044.75      0  \n",
       "...                         ...            ...           ...    ...  \n",
       "905            electronic_check         100.50        918.60      1  \n",
       "5192               mailed_check          19.95       1189.90      0  \n",
       "3980           electronic_check         105.70       2979.50      1  \n",
       "235                mailed_check          54.40        114.10      1  \n",
       "5157  bank_transfer_(automatic)          68.25       1114.85      0  \n",
       "\n",
       "[5634 rows x 21 columns]"
      ]
     },
     "execution_count": 182,
     "metadata": {},
     "output_type": "execute_result"
    }
   ],
   "source": [
    "df_full_train"
   ]
  },
  {
   "cell_type": "code",
   "execution_count": 202,
   "metadata": {},
   "outputs": [],
   "source": [
    "dicts_fulll_train = df_full_train[categorical+numeric].to_dict(orient='records')"
   ]
  },
  {
   "cell_type": "code",
   "execution_count": 203,
   "metadata": {},
   "outputs": [],
   "source": [
    "dv_full = DictVectorizer(sparse=False)\n",
    "X_train_full = dv_full.fit_transform(dicts_fulll_train)"
   ]
  },
  {
   "cell_type": "code",
   "execution_count": 204,
   "metadata": {},
   "outputs": [],
   "source": [
    "y_full_train = df_full_train.churn.values"
   ]
  },
  {
   "cell_type": "code",
   "execution_count": 205,
   "metadata": {},
   "outputs": [
    {
     "data": {
      "text/plain": [
       "LogisticRegression()"
      ]
     },
     "execution_count": 205,
     "metadata": {},
     "output_type": "execute_result"
    }
   ],
   "source": [
    "full_model = LogisticRegression()\n",
    "full_model.fit(X_train_full,y_full_train)"
   ]
  },
  {
   "cell_type": "code",
   "execution_count": 206,
   "metadata": {},
   "outputs": [],
   "source": [
    "dicts_test = df_test[categorical+numeric].to_dict(orient='records')\n",
    "X_test = dv_full.transform(dicts_test)"
   ]
  },
  {
   "cell_type": "code",
   "execution_count": 207,
   "metadata": {},
   "outputs": [],
   "source": [
    "y_pred = full_model.predict_proba(X_test)[:,1]"
   ]
  },
  {
   "cell_type": "code",
   "execution_count": 208,
   "metadata": {},
   "outputs": [],
   "source": [
    "churn_decision = (y_pred >= 0.5)"
   ]
  },
  {
   "cell_type": "code",
   "execution_count": 209,
   "metadata": {},
   "outputs": [
    {
     "data": {
      "text/plain": [
       "0.815471965933286"
      ]
     },
     "execution_count": 209,
     "metadata": {},
     "output_type": "execute_result"
    }
   ],
   "source": [
    "(churn_decision == y_test).mean()"
   ]
  },
  {
   "cell_type": "code",
   "execution_count": 210,
   "metadata": {},
   "outputs": [
    {
     "data": {
      "text/plain": [
       "{'gender': 'male',\n",
       " 'seniorcitizen': 1,\n",
       " 'partner': 'yes',\n",
       " 'dependents': 'yes',\n",
       " 'phoneservice': 'yes',\n",
       " 'multiplelines': 'no',\n",
       " 'internetservice': 'fiber_optic',\n",
       " 'onlinesecurity': 'no',\n",
       " 'onlinebackup': 'yes',\n",
       " 'deviceprotection': 'no',\n",
       " 'techsupport': 'no',\n",
       " 'streamingtv': 'yes',\n",
       " 'streamingmovies': 'yes',\n",
       " 'contract': 'month-to-month',\n",
       " 'paperlessbilling': 'yes',\n",
       " 'paymentmethod': 'mailed_check',\n",
       " 'tenure': 32,\n",
       " 'monthlycharges': 93.95,\n",
       " 'totalcharges': 2861.45}"
      ]
     },
     "execution_count": 210,
     "metadata": {},
     "output_type": "execute_result"
    }
   ],
   "source": [
    "dicts_test[10]"
   ]
  },
  {
   "cell_type": "code",
   "execution_count": 211,
   "metadata": {},
   "outputs": [
    {
     "data": {
      "text/plain": [
       "{'gender': 'female',\n",
       " 'seniorcitizen': 0,\n",
       " 'partner': 'yes',\n",
       " 'dependents': 'yes',\n",
       " 'phoneservice': 'yes',\n",
       " 'multiplelines': 'yes',\n",
       " 'internetservice': 'fiber_optic',\n",
       " 'onlinesecurity': 'yes',\n",
       " 'onlinebackup': 'no',\n",
       " 'deviceprotection': 'yes',\n",
       " 'techsupport': 'no',\n",
       " 'streamingtv': 'yes',\n",
       " 'streamingmovies': 'yes',\n",
       " 'contract': 'month-to-month',\n",
       " 'paperlessbilling': 'yes',\n",
       " 'paymentmethod': 'electronic_check',\n",
       " 'tenure': 17,\n",
       " 'monthlycharges': 104.2,\n",
       " 'totalcharges': 1743.5}"
      ]
     },
     "execution_count": 211,
     "metadata": {},
     "output_type": "execute_result"
    }
   ],
   "source": [
    "customer = dicts_test[-1]\n",
    "customer"
   ]
  },
  {
   "cell_type": "code",
   "execution_count": 212,
   "metadata": {},
   "outputs": [],
   "source": [
    "x_small = dv.transform([customer])"
   ]
  },
  {
   "cell_type": "code",
   "execution_count": 213,
   "metadata": {},
   "outputs": [
    {
     "data": {
      "text/plain": [
       "0.6222118599915756"
      ]
     },
     "execution_count": 213,
     "metadata": {},
     "output_type": "execute_result"
    }
   ],
   "source": [
    "model.predict_proba(x_small)[0,1]"
   ]
  },
  {
   "cell_type": "code",
   "execution_count": 214,
   "metadata": {},
   "outputs": [
    {
     "data": {
      "text/plain": [
       "1"
      ]
     },
     "execution_count": 214,
     "metadata": {},
     "output_type": "execute_result"
    }
   ],
   "source": [
    "y_test[-1]"
   ]
  },
  {
   "cell_type": "markdown",
   "metadata": {},
   "source": [
    "#### Confusion Table"
   ]
  },
  {
   "cell_type": "code",
   "execution_count": 217,
   "metadata": {},
   "outputs": [],
   "source": [
    "actual_positive = (y_val == 1)\n",
    "actual_negative = (y_val == 0)"
   ]
  },
  {
   "cell_type": "code",
   "execution_count": 218,
   "metadata": {},
   "outputs": [],
   "source": [
    "t = 0.5\n",
    "predict_positve = (y_pred > t)\n",
    "predict_negative = (y_pred < t)"
   ]
  },
  {
   "cell_type": "code",
   "execution_count": 219,
   "metadata": {},
   "outputs": [
    {
     "data": {
      "text/plain": [
       "array([False, False, False, ..., False, False,  True])"
      ]
     },
     "execution_count": 219,
     "metadata": {},
     "output_type": "execute_result"
    }
   ],
   "source": [
    "predict_positve"
   ]
  },
  {
   "cell_type": "code",
   "execution_count": 222,
   "metadata": {},
   "outputs": [
    {
     "data": {
      "text/plain": [
       "(79, 790, 233, 307)"
      ]
     },
     "execution_count": 222,
     "metadata": {},
     "output_type": "execute_result"
    }
   ],
   "source": [
    "tp = (predict_positve & actual_positive).sum()\n",
    "tn = (predict_negative & actual_negative).sum()\n",
    "\n",
    "fp = (predict_positve&actual_negative).sum()\n",
    "fn = (predict_negative&actual_positive).sum()\n",
    "\n",
    "tp, tn, fp, fn"
   ]
  },
  {
   "cell_type": "code",
   "execution_count": 224,
   "metadata": {},
   "outputs": [
    {
     "data": {
      "text/plain": [
       "array([[790,  79],\n",
       "       [790,  79]])"
      ]
     },
     "execution_count": 224,
     "metadata": {},
     "output_type": "execute_result"
    }
   ],
   "source": [
    "confusion_matrix = np.array([\n",
    "    [tn,tp],\n",
    "    [tn,tp]\n",
    "])\n",
    "confusion_matrix"
   ]
  },
  {
   "cell_type": "markdown",
   "metadata": {},
   "source": [
    "#### Precison and Recall"
   ]
  },
  {
   "cell_type": "code",
   "execution_count": 225,
   "metadata": {},
   "outputs": [
    {
     "data": {
      "text/plain": [
       "(0.2532051282051282, 0.20466321243523317)"
      ]
     },
     "execution_count": 225,
     "metadata": {},
     "output_type": "execute_result"
    }
   ],
   "source": [
    "precision = tp / (tp+fp)\n",
    "Recall = tp / (tp+fn)\n",
    "precision, Recall"
   ]
  },
  {
   "cell_type": "markdown",
   "metadata": {},
   "source": [
    "#### ROC"
   ]
  },
  {
   "cell_type": "code",
   "execution_count": 226,
   "metadata": {},
   "outputs": [
    {
     "data": {
      "text/plain": [
       "0.20466321243523317"
      ]
     },
     "execution_count": 226,
     "metadata": {},
     "output_type": "execute_result"
    }
   ],
   "source": [
    "tpr = tp/(tp+fn)\n",
    "tpr"
   ]
  },
  {
   "cell_type": "code",
   "execution_count": 227,
   "metadata": {},
   "outputs": [
    {
     "data": {
      "text/plain": [
       "0.22776148582600195"
      ]
     },
     "execution_count": 227,
     "metadata": {},
     "output_type": "execute_result"
    }
   ],
   "source": [
    "fpr = fp / (fp+tn)\n",
    "fpr"
   ]
  },
  {
   "cell_type": "code",
   "execution_count": 232,
   "metadata": {},
   "outputs": [],
   "source": [
    "threshold = np.linspace(0,1,101)\n",
    "scores = []\n",
    "for t in threshold:\n",
    "    actual_positive = (y_val == 1)\n",
    "    actual_negative = (y_val == 0)\n",
    "    \n",
    "\n",
    "    \n",
    "    predict_positve = (y_pred > t)\n",
    "    predict_negative = (y_pred < t)\n",
    "\n",
    "    tp = (predict_positve & actual_positive).sum()\n",
    "    tn = (predict_negative & actual_negative).sum()\n",
    "\n",
    "    fp = (predict_positve&actual_negative).sum()\n",
    "    fn = (predict_negative&actual_positive).sum()\n",
    "    \n",
    "    scores.append((t,tp,fp,fn,tn))"
   ]
  },
  {
   "cell_type": "code",
   "execution_count": 233,
   "metadata": {},
   "outputs": [
    {
     "data": {
      "text/plain": [
       "[(0.0, 386, 1023, 0, 0),\n",
       " (0.01, 361, 934, 25, 89),\n",
       " (0.02, 341, 873, 45, 150),\n",
       " (0.03, 324, 828, 62, 195),\n",
       " (0.04, 318, 799, 68, 224),\n",
       " (0.05, 306, 762, 80, 261),\n",
       " (0.06, 297, 744, 89, 279),\n",
       " (0.07, 282, 711, 104, 312),\n",
       " (0.08, 264, 680, 122, 343),\n",
       " (0.09, 253, 653, 133, 370),\n",
       " (0.1, 245, 637, 141, 386),\n",
       " (0.11, 240, 619, 146, 404),\n",
       " (0.12, 232, 600, 154, 423),\n",
       " (0.13, 223, 584, 163, 439),\n",
       " (0.14, 217, 571, 169, 452),\n",
       " (0.15, 209, 556, 177, 467),\n",
       " (0.16, 204, 546, 182, 477),\n",
       " (0.17, 198, 536, 188, 487),\n",
       " (0.18, 193, 515, 193, 508),\n",
       " (0.19, 188, 502, 198, 521),\n",
       " (0.2, 183, 482, 203, 541),\n",
       " (0.21, 182, 474, 204, 549),\n",
       " (0.22, 177, 459, 209, 564),\n",
       " (0.23, 171, 448, 215, 575),\n",
       " (0.24, 162, 439, 224, 584),\n",
       " (0.25, 156, 430, 230, 593),\n",
       " (0.26, 151, 422, 235, 601),\n",
       " (0.27, 148, 416, 238, 607),\n",
       " (0.28, 146, 406, 240, 617),\n",
       " (0.29, 142, 397, 244, 626),\n",
       " (0.3, 138, 392, 248, 631),\n",
       " (0.31, 134, 382, 252, 641),\n",
       " (0.32, 129, 378, 257, 645),\n",
       " (0.33, 127, 371, 259, 652),\n",
       " (0.34, 125, 364, 261, 659),\n",
       " (0.35000000000000003, 125, 358, 261, 665),\n",
       " (0.36, 123, 352, 263, 671),\n",
       " (0.37, 121, 344, 265, 679),\n",
       " (0.38, 115, 329, 271, 694),\n",
       " (0.39, 109, 321, 277, 702),\n",
       " (0.4, 106, 318, 280, 705),\n",
       " (0.41000000000000003, 104, 308, 282, 715),\n",
       " (0.42, 101, 301, 285, 722),\n",
       " (0.43, 97, 296, 289, 727),\n",
       " (0.44, 94, 290, 292, 733),\n",
       " (0.45, 94, 284, 292, 739),\n",
       " (0.46, 92, 273, 294, 750),\n",
       " (0.47000000000000003, 92, 260, 294, 763),\n",
       " (0.48, 90, 246, 296, 777),\n",
       " (0.49, 82, 237, 304, 786),\n",
       " (0.5, 79, 233, 307, 790),\n",
       " (0.51, 76, 225, 310, 798),\n",
       " (0.52, 75, 220, 311, 803),\n",
       " (0.53, 71, 216, 315, 807),\n",
       " (0.54, 67, 209, 319, 814),\n",
       " (0.55, 67, 204, 319, 819),\n",
       " (0.56, 67, 195, 319, 828),\n",
       " (0.5700000000000001, 61, 187, 325, 836),\n",
       " (0.58, 61, 179, 325, 844),\n",
       " (0.59, 59, 165, 327, 858),\n",
       " (0.6, 57, 157, 329, 866),\n",
       " (0.61, 53, 150, 333, 873),\n",
       " (0.62, 50, 140, 336, 883),\n",
       " (0.63, 47, 132, 339, 891),\n",
       " (0.64, 46, 123, 340, 900),\n",
       " (0.65, 43, 118, 343, 905),\n",
       " (0.66, 38, 110, 348, 913),\n",
       " (0.67, 35, 107, 351, 916),\n",
       " (0.68, 34, 101, 352, 922),\n",
       " (0.6900000000000001, 30, 88, 356, 935),\n",
       " (0.7000000000000001, 28, 78, 358, 945),\n",
       " (0.71, 24, 70, 362, 953),\n",
       " (0.72, 23, 62, 363, 961),\n",
       " (0.73, 20, 58, 366, 965),\n",
       " (0.74, 14, 46, 372, 977),\n",
       " (0.75, 9, 42, 377, 981),\n",
       " (0.76, 7, 32, 379, 991),\n",
       " (0.77, 7, 26, 379, 997),\n",
       " (0.78, 6, 20, 380, 1003),\n",
       " (0.79, 3, 19, 383, 1004),\n",
       " (0.8, 2, 16, 384, 1007),\n",
       " (0.81, 2, 12, 384, 1011),\n",
       " (0.8200000000000001, 1, 10, 385, 1013),\n",
       " (0.8300000000000001, 1, 5, 385, 1018),\n",
       " (0.84, 0, 3, 386, 1020),\n",
       " (0.85, 0, 2, 386, 1021),\n",
       " (0.86, 0, 0, 386, 1023),\n",
       " (0.87, 0, 0, 386, 1023),\n",
       " (0.88, 0, 0, 386, 1023),\n",
       " (0.89, 0, 0, 386, 1023),\n",
       " (0.9, 0, 0, 386, 1023),\n",
       " (0.91, 0, 0, 386, 1023),\n",
       " (0.92, 0, 0, 386, 1023),\n",
       " (0.93, 0, 0, 386, 1023),\n",
       " (0.9400000000000001, 0, 0, 386, 1023),\n",
       " (0.9500000000000001, 0, 0, 386, 1023),\n",
       " (0.96, 0, 0, 386, 1023),\n",
       " (0.97, 0, 0, 386, 1023),\n",
       " (0.98, 0, 0, 386, 1023),\n",
       " (0.99, 0, 0, 386, 1023),\n",
       " (1.0, 0, 0, 386, 1023)]"
      ]
     },
     "execution_count": 233,
     "metadata": {},
     "output_type": "execute_result"
    }
   ],
   "source": [
    "scores"
   ]
  },
  {
   "cell_type": "code",
   "execution_count": null,
   "metadata": {},
   "outputs": [],
   "source": []
  }
 ],
 "metadata": {
  "kernelspec": {
   "display_name": "Python 3",
   "language": "python",
   "name": "python3"
  },
  "language_info": {
   "codemirror_mode": {
    "name": "ipython",
    "version": 3
   },
   "file_extension": ".py",
   "mimetype": "text/x-python",
   "name": "python",
   "nbconvert_exporter": "python",
   "pygments_lexer": "ipython3",
   "version": "3.9.7"
  }
 },
 "nbformat": 4,
 "nbformat_minor": 2
}
